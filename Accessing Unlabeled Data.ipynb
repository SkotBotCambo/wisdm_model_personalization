{
 "cells": [
  {
   "cell_type": "markdown",
   "metadata": {},
   "source": [
    "# Summary\n",
    "### Transforming the raw data so that the features have timestamps will probably take a non-negligible amount of time since a python module that can handle the signal processing will have to be identified.  \n",
    "\n",
    "### Unlabeled data for WISDM 2.0 is available as transformed features, but of course, no timestamps"
   ]
  },
  {
   "cell_type": "code",
   "execution_count": 2,
   "metadata": {
    "collapsed": true
   },
   "outputs": [],
   "source": [
    "import pandas as pd\n",
    "import numpy as np\n",
    "import datetime as dt\n",
    "from time import time"
   ]
  },
  {
   "cell_type": "code",
   "execution_count": 2,
   "metadata": {},
   "outputs": [
    {
     "name": "stdout",
     "output_type": "stream",
     "text": [
      "1679,Walking,1370520469556,0.2941316,-0.6356053,-0.22693644;\r\n",
      "1679,Walking,1370520469606,-0.49968776,-0.6044512,-0.22602014;\r\n",
      "cat: write error: Broken pipe\r\n"
     ]
    }
   ],
   "source": [
    "cat ./datasets/WISDM_v2/WISDM_at_v2.0_raw.txt | head -n 2"
   ]
  },
  {
   "cell_type": "markdown",
   "metadata": {},
   "source": [
    "# Reading the Raw Data"
   ]
  },
  {
   "cell_type": "markdown",
   "metadata": {},
   "source": [
    "### Labeled"
   ]
  },
  {
   "cell_type": "code",
   "execution_count": 3,
   "metadata": {
    "collapsed": true
   },
   "outputs": [],
   "source": [
    "rows = []\n",
    "bad_lines = []\n",
    "with open('./datasets/WISDM_v2/WISDM_at_v2.0_raw.txt', 'r') as fIn:\n",
    "    lines = [line.strip()[:-1].split(\",\") for line in fIn.readlines()]\n",
    "    for ind, line in enumerate(lines):\n",
    "        try:\n",
    "            row = {'user' : line[0],\n",
    "                   'class' : line[1],\n",
    "                   'timestamp' : dt.datetime.fromtimestamp(int(line[2]) / 1e3),\n",
    "                   'x-acc' : line[3],\n",
    "                   'y-acc' : line[4],\n",
    "                   'z-acc' : line[5]}\n",
    "            rows.append(row)\n",
    "        except ValueError as ve:\n",
    "            #print(\"could not parse line #%s\" % ind)\n",
    "            #print(\"line[2] : %s\" % line[2])\n",
    "            #print(ve)\n",
    "            bad_lines.append(ind)\n",
    "\n",
    "col_names = ['user', 'class', 'timestamp', 'x-acc', 'y-acc', 'z-acc']\n",
    "raw_df = pd.DataFrame(rows, columns=col_names)\n",
    "\n",
    "raw_df['x-acc'] = pd.to_numeric(raw_df['x-acc'])\n",
    "raw_df['y-acc'] = pd.to_numeric(raw_df['y-acc'])\n",
    "raw_df['z-acc'] = pd.to_numeric(raw_df['z-acc'])"
   ]
  },
  {
   "cell_type": "markdown",
   "metadata": {},
   "source": [
    "### Unlabeled"
   ]
  },
  {
   "cell_type": "code",
   "execution_count": 4,
   "metadata": {
    "collapsed": true
   },
   "outputs": [],
   "source": [
    "unlabeled_rows = []\n",
    "unlabeled_bad_lines = []\n",
    "with open('./datasets/WISDM_v2/WISDM_at_v2.0_unlabeled_raw.txt', 'r') as fIn:\n",
    "    lines = [line.strip()[:-1].split(\",\") for line in fIn.readlines()]\n",
    "    for ind, line in enumerate(lines):\n",
    "        try:\n",
    "            row = {'user' : line[0],\n",
    "                   'class' : line[1],\n",
    "                   'timestamp' : dt.datetime.fromtimestamp(int(line[2]) / 1e3),\n",
    "                   'x-acc' : line[3],\n",
    "                   'y-acc' : line[4],\n",
    "                   'z-acc' : line[5]}\n",
    "            rows.append(row)\n",
    "        except ValueError as ve:\n",
    "            #print(\"could not parse line #%s\" % ind)\n",
    "            #print(\"line[2] : %s\" % line[2])\n",
    "            #print(ve)\n",
    "            bad_lines.append(ind)\n",
    "\n",
    "unlabeled_raw_df = pd.DataFrame(rows, columns=col_names)\n",
    "\n",
    "unlabeled_raw_df['x-acc'] = pd.to_numeric(unlabeled_raw_df['x-acc'])\n",
    "unlabeled_raw_df['y-acc'] = pd.to_numeric(unlabeled_raw_df['y-acc'])\n",
    "unlabeled_raw_df['z-acc'] = pd.to_numeric(unlabeled_raw_df['z-acc'])"
   ]
  },
  {
   "cell_type": "code",
   "execution_count": 5,
   "metadata": {},
   "outputs": [
    {
     "data": {
      "text/plain": [
       "2980763"
      ]
     },
     "execution_count": 5,
     "metadata": {},
     "output_type": "execute_result"
    }
   ],
   "source": [
    "len(raw_df)"
   ]
  },
  {
   "cell_type": "code",
   "execution_count": 6,
   "metadata": {},
   "outputs": [
    {
     "data": {
      "text/plain": [
       "41190491"
      ]
     },
     "execution_count": 6,
     "metadata": {},
     "output_type": "execute_result"
    }
   ],
   "source": [
    "len(unlabeled_raw_df)"
   ]
  },
  {
   "cell_type": "markdown",
   "metadata": {},
   "source": [
    "# Save it all as one Dataframe"
   ]
  },
  {
   "cell_type": "code",
   "execution_count": 7,
   "metadata": {
    "collapsed": true
   },
   "outputs": [],
   "source": [
    "all_raw_df = pd.concat([raw_df, unlabeled_raw_df])"
   ]
  },
  {
   "cell_type": "code",
   "execution_count": 8,
   "metadata": {
    "collapsed": true
   },
   "outputs": [],
   "source": [
    "all_raw_df.to_pickle('./datasets/WISDM_v2/all_raw_data.dataframe.pickle')"
   ]
  },
  {
   "cell_type": "markdown",
   "metadata": {},
   "source": [
    "# Load it back in "
   ]
  },
  {
   "cell_type": "code",
   "execution_count": 6,
   "metadata": {
    "collapsed": true
   },
   "outputs": [],
   "source": [
    "loaded_df = pd.read_pickle(\"./datasets/WISDM_v2/all_raw_data.dataframe.pickle\")"
   ]
  },
  {
   "cell_type": "code",
   "execution_count": 13,
   "metadata": {
    "collapsed": true
   },
   "outputs": [],
   "source": [
    "loaded_df.sort_values(['user', 'timestamp'], ascending=True, inplace=True)"
   ]
  },
  {
   "cell_type": "code",
   "execution_count": 15,
   "metadata": {},
   "outputs": [
    {
     "data": {
      "text/html": [
       "<div>\n",
       "<style>\n",
       "    .dataframe thead tr:only-child th {\n",
       "        text-align: right;\n",
       "    }\n",
       "\n",
       "    .dataframe thead th {\n",
       "        text-align: left;\n",
       "    }\n",
       "\n",
       "    .dataframe tbody tr th {\n",
       "        vertical-align: top;\n",
       "    }\n",
       "</style>\n",
       "<table border=\"1\" class=\"dataframe\">\n",
       "  <thead>\n",
       "    <tr style=\"text-align: right;\">\n",
       "      <th></th>\n",
       "      <th>user</th>\n",
       "      <th>class</th>\n",
       "      <th>timestamp</th>\n",
       "      <th>x-acc</th>\n",
       "      <th>y-acc</th>\n",
       "      <th>z-acc</th>\n",
       "    </tr>\n",
       "  </thead>\n",
       "  <tbody>\n",
       "    <tr>\n",
       "      <th>32214283</th>\n",
       "      <td>1058</td>\n",
       "      <td>NoLabel</td>\n",
       "      <td>2013-05-27 17:08:06.700</td>\n",
       "      <td>1.532916</td>\n",
       "      <td>-0.270577</td>\n",
       "      <td>0.112918</td>\n",
       "    </tr>\n",
       "    <tr>\n",
       "      <th>32214284</th>\n",
       "      <td>1058</td>\n",
       "      <td>NoLabel</td>\n",
       "      <td>2013-05-27 17:08:06.750</td>\n",
       "      <td>2.914563</td>\n",
       "      <td>-1.339037</td>\n",
       "      <td>0.462325</td>\n",
       "    </tr>\n",
       "    <tr>\n",
       "      <th>32214285</th>\n",
       "      <td>1058</td>\n",
       "      <td>NoLabel</td>\n",
       "      <td>2013-05-27 17:08:06.800</td>\n",
       "      <td>0.294013</td>\n",
       "      <td>-3.097789</td>\n",
       "      <td>-0.123571</td>\n",
       "    </tr>\n",
       "    <tr>\n",
       "      <th>32214286</th>\n",
       "      <td>1058</td>\n",
       "      <td>NoLabel</td>\n",
       "      <td>2013-05-27 17:08:06.850</td>\n",
       "      <td>0.833037</td>\n",
       "      <td>-2.727077</td>\n",
       "      <td>0.110787</td>\n",
       "    </tr>\n",
       "    <tr>\n",
       "      <th>32214287</th>\n",
       "      <td>1058</td>\n",
       "      <td>NoLabel</td>\n",
       "      <td>2013-05-27 17:08:06.900</td>\n",
       "      <td>-0.033023</td>\n",
       "      <td>-2.704706</td>\n",
       "      <td>0.111853</td>\n",
       "    </tr>\n",
       "    <tr>\n",
       "      <th>32214288</th>\n",
       "      <td>1058</td>\n",
       "      <td>NoLabel</td>\n",
       "      <td>2013-05-27 17:08:06.950</td>\n",
       "      <td>0.188552</td>\n",
       "      <td>-2.597115</td>\n",
       "      <td>-0.215183</td>\n",
       "    </tr>\n",
       "    <tr>\n",
       "      <th>32214289</th>\n",
       "      <td>1058</td>\n",
       "      <td>NoLabel</td>\n",
       "      <td>2013-05-27 17:08:07.000</td>\n",
       "      <td>0.322775</td>\n",
       "      <td>-0.902279</td>\n",
       "      <td>-0.798948</td>\n",
       "    </tr>\n",
       "    <tr>\n",
       "      <th>32214290</th>\n",
       "      <td>1058</td>\n",
       "      <td>NoLabel</td>\n",
       "      <td>2013-05-27 17:08:07.050</td>\n",
       "      <td>-0.007457</td>\n",
       "      <td>0.448476</td>\n",
       "      <td>-0.705205</td>\n",
       "    </tr>\n",
       "    <tr>\n",
       "      <th>32214291</th>\n",
       "      <td>1058</td>\n",
       "      <td>NoLabel</td>\n",
       "      <td>2013-05-27 17:08:07.100</td>\n",
       "      <td>0.169377</td>\n",
       "      <td>0.735032</td>\n",
       "      <td>0.210922</td>\n",
       "    </tr>\n",
       "    <tr>\n",
       "      <th>32214292</th>\n",
       "      <td>1058</td>\n",
       "      <td>NoLabel</td>\n",
       "      <td>2013-05-27 17:08:07.150</td>\n",
       "      <td>1.601093</td>\n",
       "      <td>-1.036502</td>\n",
       "      <td>0.153398</td>\n",
       "    </tr>\n",
       "    <tr>\n",
       "      <th>32214293</th>\n",
       "      <td>1058</td>\n",
       "      <td>NoLabel</td>\n",
       "      <td>2013-05-27 17:08:07.200</td>\n",
       "      <td>0.776578</td>\n",
       "      <td>-1.251686</td>\n",
       "      <td>0.350472</td>\n",
       "    </tr>\n",
       "    <tr>\n",
       "      <th>32214294</th>\n",
       "      <td>1058</td>\n",
       "      <td>NoLabel</td>\n",
       "      <td>2013-05-27 17:08:07.250</td>\n",
       "      <td>1.206945</td>\n",
       "      <td>-2.927347</td>\n",
       "      <td>0.017044</td>\n",
       "    </tr>\n",
       "    <tr>\n",
       "      <th>32214295</th>\n",
       "      <td>1058</td>\n",
       "      <td>NoLabel</td>\n",
       "      <td>2013-05-27 17:08:07.300</td>\n",
       "      <td>0.497478</td>\n",
       "      <td>-3.426956</td>\n",
       "      <td>-0.139550</td>\n",
       "    </tr>\n",
       "    <tr>\n",
       "      <th>32214296</th>\n",
       "      <td>1058</td>\n",
       "      <td>NoLabel</td>\n",
       "      <td>2013-05-27 17:08:07.350</td>\n",
       "      <td>-0.649811</td>\n",
       "      <td>0.006392</td>\n",
       "      <td>0.136354</td>\n",
       "    </tr>\n",
       "    <tr>\n",
       "      <th>32214297</th>\n",
       "      <td>1058</td>\n",
       "      <td>NoLabel</td>\n",
       "      <td>2013-05-27 17:08:07.400</td>\n",
       "      <td>-0.596548</td>\n",
       "      <td>2.190184</td>\n",
       "      <td>0.022371</td>\n",
       "    </tr>\n",
       "    <tr>\n",
       "      <th>32214298</th>\n",
       "      <td>1058</td>\n",
       "      <td>NoLabel</td>\n",
       "      <td>2013-05-27 17:08:07.450</td>\n",
       "      <td>-0.409062</td>\n",
       "      <td>-0.337689</td>\n",
       "      <td>-0.102265</td>\n",
       "    </tr>\n",
       "    <tr>\n",
       "      <th>32214299</th>\n",
       "      <td>1058</td>\n",
       "      <td>NoLabel</td>\n",
       "      <td>2013-05-27 17:08:07.500</td>\n",
       "      <td>-0.545415</td>\n",
       "      <td>-0.541154</td>\n",
       "      <td>0.046872</td>\n",
       "    </tr>\n",
       "    <tr>\n",
       "      <th>32214300</th>\n",
       "      <td>1058</td>\n",
       "      <td>NoLabel</td>\n",
       "      <td>2013-05-27 17:08:07.550</td>\n",
       "      <td>-0.111853</td>\n",
       "      <td>-1.292166</td>\n",
       "      <td>0.162985</td>\n",
       "    </tr>\n",
       "    <tr>\n",
       "      <th>32214301</th>\n",
       "      <td>1058</td>\n",
       "      <td>NoLabel</td>\n",
       "      <td>2013-05-27 17:08:07.600</td>\n",
       "      <td>0.299339</td>\n",
       "      <td>-0.416518</td>\n",
       "      <td>-0.131028</td>\n",
       "    </tr>\n",
       "    <tr>\n",
       "      <th>32214302</th>\n",
       "      <td>1058</td>\n",
       "      <td>NoLabel</td>\n",
       "      <td>2013-05-27 17:08:07.650</td>\n",
       "      <td>0.193878</td>\n",
       "      <td>0.485761</td>\n",
       "      <td>-0.252468</td>\n",
       "    </tr>\n",
       "  </tbody>\n",
       "</table>\n",
       "</div>"
      ],
      "text/plain": [
       "          user    class               timestamp     x-acc     y-acc     z-acc\n",
       "32214283  1058  NoLabel 2013-05-27 17:08:06.700  1.532916 -0.270577  0.112918\n",
       "32214284  1058  NoLabel 2013-05-27 17:08:06.750  2.914563 -1.339037  0.462325\n",
       "32214285  1058  NoLabel 2013-05-27 17:08:06.800  0.294013 -3.097789 -0.123571\n",
       "32214286  1058  NoLabel 2013-05-27 17:08:06.850  0.833037 -2.727077  0.110787\n",
       "32214287  1058  NoLabel 2013-05-27 17:08:06.900 -0.033023 -2.704706  0.111853\n",
       "32214288  1058  NoLabel 2013-05-27 17:08:06.950  0.188552 -2.597115 -0.215183\n",
       "32214289  1058  NoLabel 2013-05-27 17:08:07.000  0.322775 -0.902279 -0.798948\n",
       "32214290  1058  NoLabel 2013-05-27 17:08:07.050 -0.007457  0.448476 -0.705205\n",
       "32214291  1058  NoLabel 2013-05-27 17:08:07.100  0.169377  0.735032  0.210922\n",
       "32214292  1058  NoLabel 2013-05-27 17:08:07.150  1.601093 -1.036502  0.153398\n",
       "32214293  1058  NoLabel 2013-05-27 17:08:07.200  0.776578 -1.251686  0.350472\n",
       "32214294  1058  NoLabel 2013-05-27 17:08:07.250  1.206945 -2.927347  0.017044\n",
       "32214295  1058  NoLabel 2013-05-27 17:08:07.300  0.497478 -3.426956 -0.139550\n",
       "32214296  1058  NoLabel 2013-05-27 17:08:07.350 -0.649811  0.006392  0.136354\n",
       "32214297  1058  NoLabel 2013-05-27 17:08:07.400 -0.596548  2.190184  0.022371\n",
       "32214298  1058  NoLabel 2013-05-27 17:08:07.450 -0.409062 -0.337689 -0.102265\n",
       "32214299  1058  NoLabel 2013-05-27 17:08:07.500 -0.545415 -0.541154  0.046872\n",
       "32214300  1058  NoLabel 2013-05-27 17:08:07.550 -0.111853 -1.292166  0.162985\n",
       "32214301  1058  NoLabel 2013-05-27 17:08:07.600  0.299339 -0.416518 -0.131028\n",
       "32214302  1058  NoLabel 2013-05-27 17:08:07.650  0.193878  0.485761 -0.252468"
      ]
     },
     "execution_count": 15,
     "metadata": {},
     "output_type": "execute_result"
    }
   ],
   "source": [
    "loaded_df.head(20)"
   ]
  },
  {
   "cell_type": "code",
   "execution_count": 8,
   "metadata": {
    "collapsed": true
   },
   "outputs": [],
   "source": [
    "users = loaded_df['user'].unique()"
   ]
  },
  {
   "cell_type": "markdown",
   "metadata": {},
   "source": [
    "# Data Segmented into 10s windows by segment_raw_data.py"
   ]
  },
  {
   "cell_type": "code",
   "execution_count": 3,
   "metadata": {
    "collapsed": true
   },
   "outputs": [],
   "source": [
    "import os"
   ]
  },
  {
   "cell_type": "code",
   "execution_count": 6,
   "metadata": {},
   "outputs": [
    {
     "data": {
      "text/plain": [
       "325"
      ]
     },
     "execution_count": 6,
     "metadata": {},
     "output_type": "execute_result"
    }
   ],
   "source": [
    "raw_dataframes_loc = './datasets/WISDM_v2/temporary_user_dataframes/'\n",
    "raw_dataframe_files = [f for f in os.listdir(raw_dataframes_loc) if '.pickle' in f]\n",
    "len(raw_dataframe_files)"
   ]
  },
  {
   "cell_type": "markdown",
   "metadata": {},
   "source": [
    "# load first user's raw data"
   ]
  },
  {
   "cell_type": "code",
   "execution_count": 25,
   "metadata": {},
   "outputs": [],
   "source": [
    "user_0_df = pd.read_pickle(raw_dataframes_loc + raw_dataframe_files[0])\n",
    "user_0_df.dropna(inplace=True)\n",
    "user_0_df['segment_id'] = user_0_df['segment_id'].astype(int)"
   ]
  },
  {
   "cell_type": "code",
   "execution_count": 31,
   "metadata": {},
   "outputs": [
    {
     "data": {
      "text/plain": [
       "Counter({0: 144, 1: 144, 2: 162, 3: 84})"
      ]
     },
     "execution_count": 31,
     "metadata": {},
     "output_type": "execute_result"
    }
   ],
   "source": [
    "from collections import Counter"
   ]
  },
  {
   "cell_type": "code",
   "execution_count": 39,
   "metadata": {},
   "outputs": [
    {
     "data": {
      "text/html": [
       "<div>\n",
       "<style>\n",
       "    .dataframe thead tr:only-child th {\n",
       "        text-align: right;\n",
       "    }\n",
       "\n",
       "    .dataframe thead th {\n",
       "        text-align: left;\n",
       "    }\n",
       "\n",
       "    .dataframe tbody tr th {\n",
       "        vertical-align: top;\n",
       "    }\n",
       "</style>\n",
       "<table border=\"1\" class=\"dataframe\">\n",
       "  <thead>\n",
       "    <tr style=\"text-align: right;\">\n",
       "      <th></th>\n",
       "      <th>user</th>\n",
       "      <th>class</th>\n",
       "      <th>timestamp</th>\n",
       "      <th>x-acc</th>\n",
       "      <th>y-acc</th>\n",
       "      <th>z-acc</th>\n",
       "      <th>segment_id</th>\n",
       "    </tr>\n",
       "  </thead>\n",
       "  <tbody>\n",
       "    <tr>\n",
       "      <th>1688375</th>\n",
       "      <td>633</td>\n",
       "      <td>Walking</td>\n",
       "      <td>2011-10-06 12:23:59.255</td>\n",
       "      <td>-6.588843</td>\n",
       "      <td>14.097059</td>\n",
       "      <td>0.459687</td>\n",
       "      <td>0</td>\n",
       "    </tr>\n",
       "    <tr>\n",
       "      <th>1688376</th>\n",
       "      <td>633</td>\n",
       "      <td>Walking</td>\n",
       "      <td>2011-10-06 12:23:59.356</td>\n",
       "      <td>-6.129156</td>\n",
       "      <td>13.637373</td>\n",
       "      <td>-2.604891</td>\n",
       "      <td>0</td>\n",
       "    </tr>\n",
       "    <tr>\n",
       "      <th>1688377</th>\n",
       "      <td>633</td>\n",
       "      <td>Walking</td>\n",
       "      <td>2011-10-06 12:23:59.504</td>\n",
       "      <td>-1.225831</td>\n",
       "      <td>17.314867</td>\n",
       "      <td>0.919373</td>\n",
       "      <td>0</td>\n",
       "    </tr>\n",
       "    <tr>\n",
       "      <th>1688378</th>\n",
       "      <td>633</td>\n",
       "      <td>Walking</td>\n",
       "      <td>2011-10-06 12:23:59.604</td>\n",
       "      <td>-1.225831</td>\n",
       "      <td>2.145205</td>\n",
       "      <td>0.306458</td>\n",
       "      <td>0</td>\n",
       "    </tr>\n",
       "    <tr>\n",
       "      <th>1688379</th>\n",
       "      <td>633</td>\n",
       "      <td>Walking</td>\n",
       "      <td>2011-10-06 12:23:59.759</td>\n",
       "      <td>2.298433</td>\n",
       "      <td>11.798626</td>\n",
       "      <td>7.661446</td>\n",
       "      <td>0</td>\n",
       "    </tr>\n",
       "  </tbody>\n",
       "</table>\n",
       "</div>"
      ],
      "text/plain": [
       "        user    class               timestamp     x-acc      y-acc     z-acc  \\\n",
       "1688375  633  Walking 2011-10-06 12:23:59.255 -6.588843  14.097059  0.459687   \n",
       "1688376  633  Walking 2011-10-06 12:23:59.356 -6.129156  13.637373 -2.604891   \n",
       "1688377  633  Walking 2011-10-06 12:23:59.504 -1.225831  17.314867  0.919373   \n",
       "1688378  633  Walking 2011-10-06 12:23:59.604 -1.225831   2.145205  0.306458   \n",
       "1688379  633  Walking 2011-10-06 12:23:59.759  2.298433  11.798626  7.661446   \n",
       "\n",
       "         segment_id  \n",
       "1688375           0  \n",
       "1688376           0  \n",
       "1688377           0  \n",
       "1688378           0  \n",
       "1688379           0  "
      ]
     },
     "execution_count": 39,
     "metadata": {},
     "output_type": "execute_result"
    }
   ],
   "source": [
    "user_0_df.head()"
   ]
  },
  {
   "cell_type": "markdown",
   "metadata": {},
   "source": [
    "## segment 0"
   ]
  },
  {
   "cell_type": "code",
   "execution_count": 26,
   "metadata": {},
   "outputs": [],
   "source": [
    "segment_0 = user_0_df[user_0_df['segment_id'] == 0]"
   ]
  },
  {
   "cell_type": "code",
   "execution_count": 27,
   "metadata": {},
   "outputs": [
    {
     "data": {
      "text/plain": [
       "Timedelta('0 days 00:00:08.949000')"
      ]
     },
     "execution_count": 27,
     "metadata": {},
     "output_type": "execute_result"
    }
   ],
   "source": [
    "segment_0['timestamp'].max() - segment_0['timestamp'].min()"
   ]
  },
  {
   "cell_type": "code",
   "execution_count": 28,
   "metadata": {},
   "outputs": [
    {
     "data": {
      "text/plain": [
       "Timestamp('2011-10-06 12:24:08.204000')"
      ]
     },
     "execution_count": 28,
     "metadata": {},
     "output_type": "execute_result"
    }
   ],
   "source": [
    "segment_0['timestamp'].max()"
   ]
  },
  {
   "cell_type": "markdown",
   "metadata": {},
   "source": [
    "## Segment 1"
   ]
  },
  {
   "cell_type": "code",
   "execution_count": 18,
   "metadata": {
    "collapsed": true
   },
   "outputs": [],
   "source": [
    "segment_1 = user_0_df[user_0_df['segment_id'] == 1.0]"
   ]
  },
  {
   "cell_type": "code",
   "execution_count": 19,
   "metadata": {},
   "outputs": [
    {
     "data": {
      "text/plain": [
       "144"
      ]
     },
     "execution_count": 19,
     "metadata": {},
     "output_type": "execute_result"
    }
   ],
   "source": [
    "len(segment_1)"
   ]
  },
  {
   "cell_type": "code",
   "execution_count": 21,
   "metadata": {},
   "outputs": [
    {
     "data": {
      "text/plain": [
       "Timedelta('0 days 00:00:09.299000')"
      ]
     },
     "execution_count": 21,
     "metadata": {},
     "output_type": "execute_result"
    }
   ],
   "source": [
    "segment_1['timestamp'].max() - segment_1['timestamp'].min()"
   ]
  },
  {
   "cell_type": "markdown",
   "metadata": {},
   "source": [
    "# The user ids of those who were in the initial work"
   ]
  },
  {
   "cell_type": "code",
   "execution_count": 33,
   "metadata": {
    "collapsed": true
   },
   "outputs": [],
   "source": [
    "from wisdm import wisdm\n",
    "wisdm.set_data(version=\"2\")\n",
    "previous_user_ids = wisdm.user_ids"
   ]
  },
  {
   "cell_type": "markdown",
   "metadata": {},
   "source": [
    "# Define method(s) to decide whether a user's data is worth considering"
   ]
  },
  {
   "cell_type": "code",
   "execution_count": 34,
   "metadata": {
    "collapsed": true
   },
   "outputs": [],
   "source": [
    "def goodUser(user_id, user_df):\n",
    "    for user_file in raw_dataframe_files:\n",
    "        if user_id in user_file:\n",
    "            return True\n",
    "    else:\n",
    "        False"
   ]
  },
  {
   "cell_type": "markdown",
   "metadata": {},
   "source": [
    "# Define fillBins() method"
   ]
  },
  {
   "cell_type": "code",
   "execution_count": 36,
   "metadata": {},
   "outputs": [
    {
     "name": "stdout",
     "output_type": "stream",
     "text": [
      "transformed_about.txt for WISDM_at_v2.0 dataset\r\n",
      "\r\n",
      "See readme.txt for information about the WISDM Lab, rights,\r\n",
      "and other general information.\r\n",
      "\r\n",
      "Associated tasks: classification\r\n",
      "Number of examples: 5435 \r\n",
      "Number of attributes: 46\r\n",
      "Missing attribute values: No\r\n",
      "        A \"?\" may appear for the \"Time between peaks attribute\" when there\r\n",
      "        are no identifiable peaks in a sample.  Please see the following\r\n",
      "        paper, near the end of section 2.2, for further explanation\r\n",
      "\r\n",
      "        Jennifer R. Kwapisz, Gary M. Weiss and Samuel A. Moore (2010).\r\n",
      "                \"Activity Recognition using Cell Phone Accelerometers,\"\r\n",
      "                Proceedings of the Fourth International Workshop on\r\n",
      "                Knowledge Discovery from Sensor Data (at KDD-10), Washington\r\n",
      "                DC.\r\n",
      "\r\n",
      "Class distribution: {\r\n",
      "        Walking -> 2185 -> 40.2%,\r\n",
      "        Jogging -> 130 -> 2.4%,\r\n",
      "        Stairs -> 251 -> 4.6%,\r\n",
      "        Sitting -> 1410 -> 25.9%\r\n",
      "        Standing -> 840 -> 15.5%\r\n",
      "        LyingDown -> 619 -> 11.4% }\r\n",
      "\r\n",
      "transformed.arff follows the Attribute-Relation File Format\r\n",
      "specified here:\r\n",
      "<http://weka.wikispaces.com/ARFF+%28stable+version%29>\r\n",
      "\r\n",
      "\r\n",
      "For our transformation process, we take 10 seconds worth of\r\n",
      "accelerometer samples (200 records/lines in the raw file)\r\n",
      "and transform them into a single example/tuple of 46 values.\r\n",
      "Most of the features we generate are simple statistical\r\n",
      "measures.\r\n",
      "\r\n",
      "\r\n",
      "Field descriptions:\r\n",
      "(To see the field definitions, read the arff file's header.)\r\n",
      "For a detailed specification, see section 2.2 of:\r\n",
      "Jennifer R. Kwapisz, Gary M. Weiss and Samuel A. Moore (2010).\r\n",
      "        \"Activity Recognition using Cell Phone Accelerometers,\"\r\n",
      "        Proceedings of the Fourth International Workshop on\r\n",
      "        Knowledge Discovery from Sensor Data (at KDD-10),\r\n",
      "        Washington DC.\r\n",
      "        <http://www.cis.fordham.edu/wisdm/public_files/sensorKDD-2010.pdf>\r\n",
      "\r\n",
      "\r\n",
      "\r\n",
      "user is the id number of the user that the data is from.\r\n",
      "\r\n",
      "X0..x9, Y0..Y9, Z0..Z9 are bins, their values are the fraction\r\n",
      "        of accelerometer samples that fell within that bin\r\n",
      "\r\n",
      "XAVG, YAVG, ZAVG are the average x, y, and z values over the\r\n",
      "        200 records in the example.\r\n",
      "\r\n",
      "XPEAK, YPEAK, ZPEAK are approximations of the dominant\r\n",
      "        frequency. First, the greatest value in the series is\r\n",
      "        identified, then all local peak values within 10% of\r\n",
      "        its amplitude are identified. If the number of peaks\r\n",
      "        is less than 3, then the threshhold is lowered until\r\n",
      "        at least 3 peaks can be found. The times between\r\n",
      "\tconsecutive peaks are summed and divided by the number\r\n",
      "        of peaks.\r\n",
      "\r\n",
      "\r\n",
      "XABSOLDEV, YABSOLDEV, ZABSOLDEV are the average absolute\r\n",
      "        deviations from the mean value for each axis.\r\n",
      "\r\n",
      "XSTANDDEV, YSTANDDEV, ZSTANDDEV are the standard deviations\r\n",
      "        for each axis.\r\n",
      "\r\n",
      "RESULTANT is the average of the square roots of the sum of the values\r\n",
      "   of each axis squared �(xi^2 + yi^2 + zi^2).\r\n",
      "\r\n",
      "class is the activity that the user was performing during this example.\r\n",
      "\r\n"
     ]
    }
   ],
   "source": [
    "cat ./datasets/WISDM_v2/WISDM_at_v2.0_transformed_about.txt"
   ]
  },
  {
   "cell_type": "code",
   "execution_count": 61,
   "metadata": {},
   "outputs": [
    {
     "data": {
      "text/plain": [
       "[-inf, -2.5, 0.0, 2.5, 5.0, 7.5, 10.0, 12.5, 15.0, 17.5, inf]"
      ]
     },
     "execution_count": 61,
     "metadata": {},
     "output_type": "execute_result"
    }
   ],
   "source": [
    "bins = list(np.arange(-2.5, 20, 2.5))\n",
    "bins = [-np.inf] + bins\n",
    "bins = bins + [np.inf]\n",
    "bins"
   ]
  },
  {
   "cell_type": "code",
   "execution_count": 62,
   "metadata": {},
   "outputs": [],
   "source": [
    "x = segment_0['x-acc']"
   ]
  },
  {
   "cell_type": "code",
   "execution_count": 63,
   "metadata": {},
   "outputs": [
    {
     "data": {
      "text/plain": [
       "array([72, 51, 12,  3,  6,  0,  0,  0,  0,  0])"
      ]
     },
     "execution_count": 63,
     "metadata": {},
     "output_type": "execute_result"
    }
   ],
   "source": [
    "counts, bins = np.histogram(x, bins=bins, density=False)\n",
    "counts"
   ]
  },
  {
   "cell_type": "code",
   "execution_count": 64,
   "metadata": {},
   "outputs": [
    {
     "data": {
      "text/plain": [
       "10"
      ]
     },
     "execution_count": 64,
     "metadata": {},
     "output_type": "execute_result"
    }
   ],
   "source": [
    "len(counts)"
   ]
  },
  {
   "cell_type": "code",
   "execution_count": 48,
   "metadata": {},
   "outputs": [
    {
     "data": {
      "text/plain": [
       "72"
      ]
     },
     "execution_count": 48,
     "metadata": {},
     "output_type": "execute_result"
    }
   ],
   "source": [
    "np.sum([1 for t in x if t < -2.5 ])"
   ]
  },
  {
   "cell_type": "code",
   "execution_count": 49,
   "metadata": {},
   "outputs": [
    {
     "data": {
      "text/plain": [
       "0.0"
      ]
     },
     "execution_count": 49,
     "metadata": {},
     "output_type": "execute_result"
    }
   ],
   "source": [
    "np.sum([1 for t in x if t > 20 ])"
   ]
  },
  {
   "cell_type": "code",
   "execution_count": null,
   "metadata": {
    "collapsed": true
   },
   "outputs": [],
   "source": [
    "def fillBins(segment_df):\n",
    "    reference_bins = np.arange(-2.5, 22.5, 2.5)\n",
    "    x_bins = {b : 0 for b in reference_bin}\n",
    "    y_bins = {b : 0 for b in reference_bin}\n",
    "    z_bins = {b : 0 for b in reference_bin}\n",
    "    \n",
    "    for ind, row in segment_df:\n",
    "        if row['x-acc'] < reference_bins[0]\n",
    "    "
   ]
  }
 ],
 "metadata": {
  "kernelspec": {
   "display_name": "Python 3",
   "language": "python",
   "name": "python3"
  },
  "language_info": {
   "codemirror_mode": {
    "name": "ipython",
    "version": 3
   },
   "file_extension": ".py",
   "mimetype": "text/x-python",
   "name": "python",
   "nbconvert_exporter": "python",
   "pygments_lexer": "ipython3",
   "version": "3.4.5"
  }
 },
 "nbformat": 4,
 "nbformat_minor": 2
}
