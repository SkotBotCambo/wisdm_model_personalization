{
 "cells": [
  {
   "cell_type": "code",
   "execution_count": 1,
   "metadata": {
    "collapsed": true
   },
   "outputs": [],
   "source": [
    "from wisdm import wisdm\n",
    "import random\n",
    "import numpy as np\n",
    "import pandas as pd\n",
    "from collections import Counter\n",
    "import time\n",
    "from scipy import stats"
   ]
  },
  {
   "cell_type": "code",
   "execution_count": 2,
   "metadata": {},
   "outputs": [
    {
     "data": {
      "text/html": [
       "<script>requirejs.config({paths: { 'plotly': ['https://cdn.plot.ly/plotly-latest.min']},});if(!window.Plotly) {{require(['plotly'],function(plotly) {window.Plotly=plotly;});}}</script>"
      ],
      "text/vnd.plotly.v1+html": [
       "<script>requirejs.config({paths: { 'plotly': ['https://cdn.plot.ly/plotly-latest.min']},});if(!window.Plotly) {{require(['plotly'],function(plotly) {window.Plotly=plotly;});}}</script>"
      ]
     },
     "metadata": {},
     "output_type": "display_data"
    }
   ],
   "source": [
    "from plotly.offline import download_plotlyjs, init_notebook_mode, plot, iplot\n",
    "init_notebook_mode(connected=True)\n",
    "import plotly.graph_objs as go"
   ]
  },
  {
   "cell_type": "code",
   "execution_count": 7,
   "metadata": {
    "collapsed": true
   },
   "outputs": [],
   "source": [
    "raw_df = pd.read_pickle('./datasets/all_raw_data.dataframe.pickle')"
   ]
  },
  {
   "cell_type": "code",
   "execution_count": 8,
   "metadata": {},
   "outputs": [
    {
     "data": {
      "text/html": [
       "<div>\n",
       "<style>\n",
       "    .dataframe thead tr:only-child th {\n",
       "        text-align: right;\n",
       "    }\n",
       "\n",
       "    .dataframe thead th {\n",
       "        text-align: left;\n",
       "    }\n",
       "\n",
       "    .dataframe tbody tr th {\n",
       "        vertical-align: top;\n",
       "    }\n",
       "</style>\n",
       "<table border=\"1\" class=\"dataframe\">\n",
       "  <thead>\n",
       "    <tr style=\"text-align: right;\">\n",
       "      <th></th>\n",
       "      <th>user</th>\n",
       "      <th>class</th>\n",
       "      <th>timestamp</th>\n",
       "      <th>x-acc</th>\n",
       "      <th>y-acc</th>\n",
       "      <th>z-acc</th>\n",
       "    </tr>\n",
       "  </thead>\n",
       "  <tbody>\n",
       "    <tr>\n",
       "      <th>0</th>\n",
       "      <td>1679</td>\n",
       "      <td>Walking</td>\n",
       "      <td>2013-06-06 07:07:49.556</td>\n",
       "      <td>0.294132</td>\n",
       "      <td>-0.635605</td>\n",
       "      <td>-0.226936</td>\n",
       "    </tr>\n",
       "    <tr>\n",
       "      <th>1</th>\n",
       "      <td>1679</td>\n",
       "      <td>Walking</td>\n",
       "      <td>2013-06-06 07:07:49.606</td>\n",
       "      <td>-0.499688</td>\n",
       "      <td>-0.604451</td>\n",
       "      <td>-0.226020</td>\n",
       "    </tr>\n",
       "    <tr>\n",
       "      <th>2</th>\n",
       "      <td>1679</td>\n",
       "      <td>Walking</td>\n",
       "      <td>2013-06-06 07:07:49.656</td>\n",
       "      <td>-2.178345</td>\n",
       "      <td>0.713491</td>\n",
       "      <td>0.372017</td>\n",
       "    </tr>\n",
       "    <tr>\n",
       "      <th>3</th>\n",
       "      <td>1679</td>\n",
       "      <td>Walking</td>\n",
       "      <td>2013-06-06 07:07:49.706</td>\n",
       "      <td>-2.797763</td>\n",
       "      <td>1.354899</td>\n",
       "      <td>-0.277638</td>\n",
       "    </tr>\n",
       "    <tr>\n",
       "      <th>4</th>\n",
       "      <td>1679</td>\n",
       "      <td>Walking</td>\n",
       "      <td>2013-06-06 07:07:49.756</td>\n",
       "      <td>-2.167961</td>\n",
       "      <td>-1.327716</td>\n",
       "      <td>-0.554971</td>\n",
       "    </tr>\n",
       "  </tbody>\n",
       "</table>\n",
       "</div>"
      ],
      "text/plain": [
       "   user    class               timestamp     x-acc     y-acc     z-acc\n",
       "0  1679  Walking 2013-06-06 07:07:49.556  0.294132 -0.635605 -0.226936\n",
       "1  1679  Walking 2013-06-06 07:07:49.606 -0.499688 -0.604451 -0.226020\n",
       "2  1679  Walking 2013-06-06 07:07:49.656 -2.178345  0.713491  0.372017\n",
       "3  1679  Walking 2013-06-06 07:07:49.706 -2.797763  1.354899 -0.277638\n",
       "4  1679  Walking 2013-06-06 07:07:49.756 -2.167961 -1.327716 -0.554971"
      ]
     },
     "execution_count": 8,
     "metadata": {},
     "output_type": "execute_result"
    }
   ],
   "source": [
    "raw_df.head()"
   ]
  },
  {
   "cell_type": "code",
   "execution_count": 9,
   "metadata": {
    "collapsed": true
   },
   "outputs": [],
   "source": [
    "data_df = pd.read_pickle('./datasets/compatible_transformed_df.pickle')"
   ]
  },
  {
   "cell_type": "code",
   "execution_count": 12,
   "metadata": {
    "collapsed": true
   },
   "outputs": [],
   "source": [
    "study_user_ids = data_df['user'].unique()"
   ]
  },
  {
   "cell_type": "markdown",
   "metadata": {},
   "source": [
    "# How many users and how much time do each represent?"
   ]
  },
  {
   "cell_type": "code",
   "execution_count": 13,
   "metadata": {},
   "outputs": [
    {
     "data": {
      "text/plain": [
       "325"
      ]
     },
     "execution_count": 13,
     "metadata": {},
     "output_type": "execute_result"
    }
   ],
   "source": [
    "total_user_ids = data_df['user'].unique()\n",
    "len(user_ids)"
   ]
  },
  {
   "cell_type": "code",
   "execution_count": 14,
   "metadata": {
    "collapsed": true
   },
   "outputs": [],
   "source": [
    "# constrain the dataframe to only users who were in Lockhart's final dataset\n",
    "raw_study_df = raw_df[raw_df['user'].isin(study_user_ids)]"
   ]
  },
  {
   "cell_type": "code",
   "execution_count": 15,
   "metadata": {},
   "outputs": [
    {
     "data": {
      "text/plain": [
       "16642648"
      ]
     },
     "execution_count": 15,
     "metadata": {},
     "output_type": "execute_result"
    }
   ],
   "source": [
    "len(raw_study_df)"
   ]
  },
  {
   "cell_type": "code",
   "execution_count": 16,
   "metadata": {},
   "outputs": [
    {
     "data": {
      "text/plain": [
       "44171254"
      ]
     },
     "execution_count": 16,
     "metadata": {},
     "output_type": "execute_result"
    }
   ],
   "source": [
    "len(raw_df)"
   ]
  },
  {
   "cell_type": "code",
   "execution_count": 17,
   "metadata": {},
   "outputs": [
    {
     "data": {
      "text/plain": [
       "27528606"
      ]
     },
     "execution_count": 17,
     "metadata": {},
     "output_type": "execute_result"
    }
   ],
   "source": [
    "len(raw_df) - len(raw_study_df)"
   ]
  },
  {
   "cell_type": "code",
   "execution_count": 18,
   "metadata": {
    "collapsed": true
   },
   "outputs": [],
   "source": [
    "timespans = []\n",
    "\n",
    "for user_id in study_user_ids:\n",
    "    times = raw_study_df[raw_study_df['user'] == user_id]['timestamp']\n",
    "    first = times.min()\n",
    "    last = times.max()\n",
    "    span = last - first\n",
    "    timespans.append(span)"
   ]
  },
  {
   "cell_type": "code",
   "execution_count": 19,
   "metadata": {},
   "outputs": [
    {
     "data": {
      "text/plain": [
       "Timedelta('0 days 00:00:19.903000')"
      ]
     },
     "execution_count": 19,
     "metadata": {},
     "output_type": "execute_result"
    }
   ],
   "source": [
    "min(timespans)"
   ]
  },
  {
   "cell_type": "code",
   "execution_count": 20,
   "metadata": {},
   "outputs": [
    {
     "data": {
      "text/plain": [
       "Timedelta('15980 days 05:16:40.785000')"
      ]
     },
     "execution_count": 20,
     "metadata": {},
     "output_type": "execute_result"
    }
   ],
   "source": [
    "max(timespans)"
   ]
  },
  {
   "cell_type": "code",
   "execution_count": 21,
   "metadata": {
    "collapsed": true
   },
   "outputs": [],
   "source": [
    "sorted_ind = np.argsort(timespans)"
   ]
  },
  {
   "cell_type": "code",
   "execution_count": 23,
   "metadata": {
    "collapsed": true
   },
   "outputs": [],
   "source": [
    "timespans = np.array(timespans)"
   ]
  },
  {
   "cell_type": "code",
   "execution_count": 34,
   "metadata": {},
   "outputs": [
    {
     "data": {
      "text/plain": [
       "[Timedelta('0 days 08:11:47.077000'),\n",
       " Timedelta('0 days 13:12:33.940000'),\n",
       " Timedelta('0 days 17:32:33'),\n",
       " Timedelta('1 days 05:24:07.957000'),\n",
       " Timedelta('1 days 09:49:00.516000'),\n",
       " Timedelta('1 days 11:41:44.425000'),\n",
       " Timedelta('1 days 22:16:02.231000'),\n",
       " Timedelta('2 days 06:37:52.425000'),\n",
       " Timedelta('2 days 17:22:12.904000'),\n",
       " Timedelta('4 days 15:36:54.881000'),\n",
       " Timedelta('5 days 05:22:24.186000'),\n",
       " Timedelta('8 days 12:27:41.989000'),\n",
       " Timedelta('11 days 16:01:00.792000'),\n",
       " Timedelta('14 days 18:02:51.225000'),\n",
       " Timedelta('20 days 20:35:04.613000'),\n",
       " Timedelta('32 days 01:59:00.318000'),\n",
       " Timedelta('35 days 15:43:41.877000'),\n",
       " Timedelta('83 days 20:53:16.070000'),\n",
       " Timedelta('83 days 22:41:32.015000'),\n",
       " Timedelta('93 days 06:12:59.622000'),\n",
       " Timedelta('98 days 18:26:58.174000'),\n",
       " Timedelta('119 days 20:14:14.716000'),\n",
       " Timedelta('119 days 20:48:46.848000'),\n",
       " NaT,\n",
       " Timedelta('120 days 02:14:54.050000'),\n",
       " Timedelta('175 days 17:33:47.528000'),\n",
       " Timedelta('15980 days 05:16:40.785000'),\n",
       " NaT,\n",
       " Timedelta('12613 days 03:46:00.715000'),\n",
       " NaT]"
      ]
     },
     "execution_count": 34,
     "metadata": {},
     "output_type": "execute_result"
    }
   ],
   "source": [
    "list(timespans[sorted_ind[-30:]])"
   ]
  },
  {
   "cell_type": "code",
   "execution_count": 27,
   "metadata": {},
   "outputs": [
    {
     "data": {
      "text/plain": [
       "pandas._libs.tslib.NaTType"
      ]
     },
     "execution_count": 27,
     "metadata": {},
     "output_type": "execute_result"
    }
   ],
   "source": [
    "type(timespans[sorted_ind[-1]])"
   ]
  },
  {
   "cell_type": "code",
   "execution_count": 28,
   "metadata": {
    "collapsed": true
   },
   "outputs": [],
   "source": [
    "nat = np.datetime64(\"NaT\")"
   ]
  },
  {
   "cell_type": "code",
   "execution_count": 33,
   "metadata": {},
   "outputs": [
    {
     "data": {
      "text/plain": [
       "False"
      ]
     },
     "execution_count": 33,
     "metadata": {},
     "output_type": "execute_result"
    }
   ],
   "source": [
    "timespans[sorted_ind[-1]] is nat"
   ]
  },
  {
   "cell_type": "code",
   "execution_count": 35,
   "metadata": {},
   "outputs": [
    {
     "data": {
      "text/plain": [
       "50"
      ]
     },
     "execution_count": 35,
     "metadata": {},
     "output_type": "execute_result"
    }
   ],
   "source": [
    "len(study_user_ids)"
   ]
  },
  {
   "cell_type": "code",
   "execution_count": 36,
   "metadata": {},
   "outputs": [
    {
     "data": {
      "text/plain": [
       "50"
      ]
     },
     "execution_count": 36,
     "metadata": {},
     "output_type": "execute_result"
    }
   ],
   "source": [
    "len(timespans)"
   ]
  },
  {
   "cell_type": "code",
   "execution_count": 37,
   "metadata": {
    "collapsed": true
   },
   "outputs": [],
   "source": [
    "study_user_ids = np.array(study_user_ids)"
   ]
  },
  {
   "cell_type": "code",
   "execution_count": 39,
   "metadata": {},
   "outputs": [
    {
     "data": {
      "text/plain": [
       "array(['1707', '1703', '1320', '1104', '194', '1809', '1117', '1277',\n",
       "       '1319', '1097'], dtype=object)"
      ]
     },
     "execution_count": 39,
     "metadata": {},
     "output_type": "execute_result"
    }
   ],
   "source": [
    "study_user_ids[sorted_ind[-12:-2]]"
   ]
  },
  {
   "cell_type": "code",
   "execution_count": 41,
   "metadata": {},
   "outputs": [
    {
     "data": {
      "text/plain": [
       "array(['Walking', 'LyingDown', 'Standing', 'Sitting', 'Jogging', 'Stairs',\n",
       "       'NoLabel'], dtype=object)"
      ]
     },
     "execution_count": 41,
     "metadata": {},
     "output_type": "execute_result"
    }
   ],
   "source": [
    "raw_df['class'].unique()"
   ]
  },
  {
   "cell_type": "code",
   "execution_count": 43,
   "metadata": {
    "collapsed": true
   },
   "outputs": [],
   "source": [
    "labeled_df = raw_study_df[raw_study_df['class'] != 'NoLabel']"
   ]
  },
  {
   "cell_type": "code",
   "execution_count": null,
   "metadata": {
    "collapsed": true
   },
   "outputs": [],
   "source": []
  },
  {
   "cell_type": "code",
   "execution_count": 68,
   "metadata": {
    "scrolled": true
   },
   "outputs": [
    {
     "name": "stdout",
     "output_type": "stream",
     "text": [
      "Building Trace for user : 194\n",
      "Building Trace for user : 998\n",
      "Building Trace for user : 1097\n",
      "skipping, not enough data\n",
      "Building Trace for user : 1104\n",
      "Building Trace for user : 1117\n",
      "Building Trace for user : 1205\n",
      "Building Trace for user : 1238\n",
      "Building Trace for user : 1246\n",
      "Building Trace for user : 1247\n",
      "Building Trace for user : 1253\n",
      "Building Trace for user : 1269\n",
      "Building Trace for user : 1274\n",
      "Building Trace for user : 1277\n",
      "Building Trace for user : 1280\n",
      "Building Trace for user : 1319\n",
      "Building Trace for user : 1320\n",
      "Building Trace for user : 1477\n",
      "Building Trace for user : 1480\n",
      "Building Trace for user : 1491\n",
      "Building Trace for user : 1511\n",
      "Building Trace for user : 1512\n",
      "Building Trace for user : 1518\n",
      "Building Trace for user : 1531\n",
      "Building Trace for user : 1554\n",
      "Building Trace for user : 1559\n",
      "Building Trace for user : 1603\n",
      "Building Trace for user : 1676\n",
      "Building Trace for user : 1679\n",
      "Building Trace for user : 1683\n",
      "Building Trace for user : 1696\n",
      "Building Trace for user : 1703\n",
      "Building Trace for user : 1707\n",
      "Building Trace for user : 1724\n",
      "Building Trace for user : 1742\n",
      "Building Trace for user : 1745\n",
      "Building Trace for user : 1750\n",
      "Building Trace for user : 1757\n",
      "Building Trace for user : 1758\n",
      "Building Trace for user : 1759\n",
      "Building Trace for user : 1761\n",
      "Building Trace for user : 1763\n",
      "Building Trace for user : 1774\n",
      "Building Trace for user : 1775\n",
      "Building Trace for user : 1778\n",
      "Building Trace for user : 1793\n",
      "Building Trace for user : 1797\n",
      "Building Trace for user : 1799\n",
      "Building Trace for user : 1802\n",
      "Building Trace for user : 1809\n",
      "skipping, not enough data\n",
      "Building Trace for user : 1813\n",
      "skipping, not enough data\n"
     ]
    }
   ],
   "source": [
    "n_times = []\n",
    "for ind, user_id in enumerate(study_user_ids):\n",
    "    print(\"Building Trace for user : %s\" % user_id)\n",
    "    try:\n",
    "        label_times = labeled_df[labeled_df['user'] == user_id]['timestamp']\n",
    "        first_time = min(label_times)\n",
    "        normalized_times = [(t - first_time).seconds / 3600 for t in label_times]\n",
    "        n_times.append(normalized_times)\n",
    "    except ValueError as ve:\n",
    "        print(\"skipping, not enough data\")\n",
    "        continue"
   ]
  },
  {
   "cell_type": "code",
   "execution_count": 53,
   "metadata": {
    "collapsed": true
   },
   "outputs": [],
   "source": [
    "import plotly.figure_factory as ff"
   ]
  },
  {
   "cell_type": "code",
   "execution_count": 71,
   "metadata": {},
   "outputs": [
    {
     "data": {
      "text/html": [
       "<div>\n",
       "<style>\n",
       "    .dataframe thead tr:only-child th {\n",
       "        text-align: right;\n",
       "    }\n",
       "\n",
       "    .dataframe thead th {\n",
       "        text-align: left;\n",
       "    }\n",
       "\n",
       "    .dataframe tbody tr th {\n",
       "        vertical-align: top;\n",
       "    }\n",
       "</style>\n",
       "<table border=\"1\" class=\"dataframe\">\n",
       "  <thead>\n",
       "    <tr style=\"text-align: right;\">\n",
       "      <th></th>\n",
       "      <th>user</th>\n",
       "      <th>class</th>\n",
       "      <th>timestamp</th>\n",
       "      <th>x-acc</th>\n",
       "      <th>y-acc</th>\n",
       "      <th>z-acc</th>\n",
       "    </tr>\n",
       "  </thead>\n",
       "  <tbody>\n",
       "    <tr>\n",
       "      <th>0</th>\n",
       "      <td>1679</td>\n",
       "      <td>Walking</td>\n",
       "      <td>2013-06-06 07:07:49.556</td>\n",
       "      <td>0.294132</td>\n",
       "      <td>-0.635605</td>\n",
       "      <td>-0.226936</td>\n",
       "    </tr>\n",
       "    <tr>\n",
       "      <th>1</th>\n",
       "      <td>1679</td>\n",
       "      <td>Walking</td>\n",
       "      <td>2013-06-06 07:07:49.606</td>\n",
       "      <td>-0.499688</td>\n",
       "      <td>-0.604451</td>\n",
       "      <td>-0.226020</td>\n",
       "    </tr>\n",
       "    <tr>\n",
       "      <th>2</th>\n",
       "      <td>1679</td>\n",
       "      <td>Walking</td>\n",
       "      <td>2013-06-06 07:07:49.656</td>\n",
       "      <td>-2.178345</td>\n",
       "      <td>0.713491</td>\n",
       "      <td>0.372017</td>\n",
       "    </tr>\n",
       "    <tr>\n",
       "      <th>3</th>\n",
       "      <td>1679</td>\n",
       "      <td>Walking</td>\n",
       "      <td>2013-06-06 07:07:49.706</td>\n",
       "      <td>-2.797763</td>\n",
       "      <td>1.354899</td>\n",
       "      <td>-0.277638</td>\n",
       "    </tr>\n",
       "    <tr>\n",
       "      <th>4</th>\n",
       "      <td>1679</td>\n",
       "      <td>Walking</td>\n",
       "      <td>2013-06-06 07:07:49.756</td>\n",
       "      <td>-2.167961</td>\n",
       "      <td>-1.327716</td>\n",
       "      <td>-0.554971</td>\n",
       "    </tr>\n",
       "  </tbody>\n",
       "</table>\n",
       "</div>"
      ],
      "text/plain": [
       "   user    class               timestamp     x-acc     y-acc     z-acc\n",
       "0  1679  Walking 2013-06-06 07:07:49.556  0.294132 -0.635605 -0.226936\n",
       "1  1679  Walking 2013-06-06 07:07:49.606 -0.499688 -0.604451 -0.226020\n",
       "2  1679  Walking 2013-06-06 07:07:49.656 -2.178345  0.713491  0.372017\n",
       "3  1679  Walking 2013-06-06 07:07:49.706 -2.797763  1.354899 -0.277638\n",
       "4  1679  Walking 2013-06-06 07:07:49.756 -2.167961 -1.327716 -0.554971"
      ]
     },
     "execution_count": 71,
     "metadata": {},
     "output_type": "execute_result"
    }
   ],
   "source": [
    "raw_study_df.head()"
   ]
  },
  {
   "cell_type": "code",
   "execution_count": 55,
   "metadata": {},
   "outputs": [
    {
     "data": {
      "text/plain": [
       "[Timedelta('0 days 00:00:00'),\n",
       " Timedelta('0 days 00:00:00.051000'),\n",
       " Timedelta('0 days 00:00:00.101000'),\n",
       " Timedelta('0 days 00:00:00.206000'),\n",
       " Timedelta('0 days 00:00:00.256000'),\n",
       " Timedelta('0 days 00:00:00.316000'),\n",
       " Timedelta('0 days 00:00:00.366000'),\n",
       " Timedelta('0 days 00:00:00.416000'),\n",
       " Timedelta('0 days 00:00:00.466000'),\n",
       " Timedelta('0 days 00:00:00.534000')]"
      ]
     },
     "execution_count": 55,
     "metadata": {},
     "output_type": "execute_result"
    }
   ],
   "source": [
    "n_times[0][:10]"
   ]
  },
  {
   "cell_type": "code",
   "execution_count": 61,
   "metadata": {
    "collapsed": true
   },
   "outputs": [],
   "source": [
    "td = n_times[0][30]"
   ]
  },
  {
   "cell_type": "code",
   "execution_count": 58,
   "metadata": {},
   "outputs": [
    {
     "data": {
      "text/plain": [
       "Timedelta('-106752 days +00:12:43.145224')"
      ]
     },
     "execution_count": 58,
     "metadata": {},
     "output_type": "execute_result"
    }
   ],
   "source": [
    "td.min"
   ]
  },
  {
   "cell_type": "code",
   "execution_count": 59,
   "metadata": {},
   "outputs": [
    {
     "ename": "AttributeError",
     "evalue": "'Timedelta' object has no attribute 'minutes'",
     "output_type": "error",
     "traceback": [
      "\u001b[0;31m---------------------------------------------------------------------------\u001b[0m",
      "\u001b[0;31mAttributeError\u001b[0m                            Traceback (most recent call last)",
      "\u001b[0;32m<ipython-input-59-3e55c96aad92>\u001b[0m in \u001b[0;36m<module>\u001b[0;34m()\u001b[0m\n\u001b[0;32m----> 1\u001b[0;31m \u001b[0mtd\u001b[0m\u001b[0;34m.\u001b[0m\u001b[0mminutes\u001b[0m\u001b[0;34m\u001b[0m\u001b[0m\n\u001b[0m",
      "\u001b[0;31mAttributeError\u001b[0m: 'Timedelta' object has no attribute 'minutes'"
     ]
    }
   ],
   "source": [
    "td.minutes"
   ]
  },
  {
   "cell_type": "code",
   "execution_count": 62,
   "metadata": {},
   "outputs": [
    {
     "data": {
      "text/plain": [
       "2"
      ]
     },
     "execution_count": 62,
     "metadata": {},
     "output_type": "execute_result"
    }
   ],
   "source": [
    "td.seconds"
   ]
  },
  {
   "cell_type": "code",
   "execution_count": 63,
   "metadata": {},
   "outputs": [
    {
     "data": {
      "text/plain": [
       "1.0005555555555556"
      ]
     },
     "execution_count": 63,
     "metadata": {},
     "output_type": "execute_result"
    }
   ],
   "source": [
    "3602 / 3600"
   ]
  },
  {
   "cell_type": "markdown",
   "metadata": {
    "collapsed": true
   },
   "source": []
  }
 ],
 "metadata": {
  "kernelspec": {
   "display_name": "Python 3",
   "language": "python",
   "name": "python3"
  },
  "language_info": {
   "codemirror_mode": {
    "name": "ipython",
    "version": 3
   },
   "file_extension": ".py",
   "mimetype": "text/x-python",
   "name": "python",
   "nbconvert_exporter": "python",
   "pygments_lexer": "ipython3",
   "version": "3.6.1"
  }
 },
 "nbformat": 4,
 "nbformat_minor": 2
}
