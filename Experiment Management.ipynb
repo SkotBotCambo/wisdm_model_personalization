{
 "cells": [
  {
   "cell_type": "markdown",
   "metadata": {},
   "source": [
    "# To Do"
   ]
  },
  {
   "cell_type": "markdown",
   "metadata": {},
   "source": [
    "* ~~parallelize experimental pipeline to make experiment iterations go faster on jakku~~\n",
    "* experiment with different clustering approaches\n",
    "    * different values for K in KMeans\n",
    "    * DBScan or some other clustering approach\n",
    "    * stratify data across activity classes to match labeled data\n",
    "* experiment with uncertainty sampling instead of random sampling of personal data\n",
    "* investigate clusters\n",
    "    * How big are the clusters? Is it just a matter of size of the cluster?\n",
    "    * are the clusters fairly homogenous/heterogenous with respect to\n",
    "        * activity\n",
    "        * user data (is a user's data mostly within one cluster, or many?)\n",
    "* investigate why this method works great for some people, but not others\n",
    "* What does this mean for designing human-in-the-loop systems?"
   ]
  },
  {
   "cell_type": "markdown",
   "metadata": {
    "collapsed": true
   },
   "source": [
    "# Experiment 1\n",
    "\n",
    "Comparing Universal + Personal data with varying amounts of personal data to 1 cluster of universal + personal data\n",
    "\n",
    "### Results with v1.1 dataset : \n",
    "On average, the nearest cluster + personal data did about the same as the universal + personal data, but there were far fewer really bad scenarios especially with little labeled data. Also, for some individuals, this approach consistently proved to perform best.\n",
    "\n",
    "### Results with v2.0 dataset :\n",
    "nearest cluster + personal data did better than universal + personal data on average. Consistently served as improvement across many users.\n",
    "\n",
    "### Follow-up Question #1: What is different about the moments when this approach works and when it doesn't work?\n",
    "\n",
    "### Follow-up Question #2: Can we determine early in the use of the AR technology whether the personal, universal + personal, or cluster + personal approach will work best?\n",
    "* Reason about this question along with the Tong Yu, Yong Zhuang, Ole Mengshoel, Osman Yagan paper (Hybridizing Personal and Impersonal Machine Learning Models for Activity Recognition On Mobile Devices)"
   ]
  },
  {
   "cell_type": "markdown",
   "metadata": {},
   "source": [
    "# Experiment 2\n",
    "Using an uncertainty sampling approach to intelligently select data from available personal training set."
   ]
  }
 ],
 "metadata": {
  "kernelspec": {
   "display_name": "Python 3",
   "language": "python",
   "name": "python3"
  },
  "language_info": {
   "codemirror_mode": {
    "name": "ipython",
    "version": 3
   },
   "file_extension": ".py",
   "mimetype": "text/x-python",
   "name": "python",
   "nbconvert_exporter": "python",
   "pygments_lexer": "ipython3",
   "version": "3.4.5"
  }
 },
 "nbformat": 4,
 "nbformat_minor": 2
}
