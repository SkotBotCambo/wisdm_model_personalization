{
 "cells": [
  {
   "cell_type": "code",
   "execution_count": 2,
   "metadata": {
    "collapsed": true
   },
   "outputs": [],
   "source": [
    "from sklearn.model_selection import StratifiedKFold, StratifiedShuffleSplit, ShuffleSplit\n",
    "from sklearn.calibration import CalibratedClassifierCV\n",
    "from sklearn.metrics import brier_score_loss, accuracy_score\n",
    "from sklearn.preprocessing import StandardScaler"
   ]
  },
  {
   "cell_type": "code",
   "execution_count": 3,
   "metadata": {
    "collapsed": true
   },
   "outputs": [],
   "source": [
    "from wisdm import wisdm\n",
    "import random\n",
    "import numpy as np\n",
    "import pandas as pd\n",
    "from collections import Counter"
   ]
  },
  {
   "cell_type": "code",
   "execution_count": 4,
   "metadata": {},
   "outputs": [
    {
     "data": {
      "text/html": [
       "<script>requirejs.config({paths: { 'plotly': ['https://cdn.plot.ly/plotly-latest.min']},});if(!window.Plotly) {{require(['plotly'],function(plotly) {window.Plotly=plotly;});}}</script>"
      ],
      "text/vnd.plotly.v1+html": [
       "<script>requirejs.config({paths: { 'plotly': ['https://cdn.plot.ly/plotly-latest.min']},});if(!window.Plotly) {{require(['plotly'],function(plotly) {window.Plotly=plotly;});}}</script>"
      ]
     },
     "metadata": {},
     "output_type": "display_data"
    }
   ],
   "source": [
    "from plotly.offline import download_plotlyjs, init_notebook_mode, plot, iplot\n",
    "init_notebook_mode(connected=True)\n",
    "import plotly.graph_objs as go"
   ]
  },
  {
   "cell_type": "markdown",
   "metadata": {},
   "source": [
    "# Lab on Field"
   ]
  },
  {
   "cell_type": "code",
   "execution_count": 5,
   "metadata": {
    "scrolled": false
   },
   "outputs": [
    {
     "data": {
      "text/plain": [
       "5418"
      ]
     },
     "execution_count": 5,
     "metadata": {},
     "output_type": "execute_result"
    }
   ],
   "source": [
    "wisdm.set_data(version=\"1\", make_compatible=True)\n",
    "len(wisdm.data_df)"
   ]
  },
  {
   "cell_type": "code",
   "execution_count": 6,
   "metadata": {},
   "outputs": [
    {
     "data": {
      "text/plain": [
       "Counter({b'Jogging': 1625,\n",
       "         b'Sitting': 306,\n",
       "         b'Stairs': 1160,\n",
       "         b'Standing': 246,\n",
       "         b'Walking': 2081})"
      ]
     },
     "execution_count": 6,
     "metadata": {},
     "output_type": "execute_result"
    }
   ],
   "source": [
    "Counter(wisdm.data_df['class'])"
   ]
  },
  {
   "cell_type": "code",
   "execution_count": 7,
   "metadata": {},
   "outputs": [
    {
     "data": {
      "text/plain": [
       "4816"
      ]
     },
     "execution_count": 7,
     "metadata": {},
     "output_type": "execute_result"
    }
   ],
   "source": [
    "wisdm.set_data(version=\"2\", make_compatible=True)\n",
    "len(wisdm.data_df)"
   ]
  },
  {
   "cell_type": "code",
   "execution_count": 8,
   "metadata": {},
   "outputs": [
    {
     "data": {
      "text/plain": [
       "Counter({b'Jogging': 130,\n",
       "         b'Sitting': 1410,\n",
       "         b'Stairs': 251,\n",
       "         b'Standing': 840,\n",
       "         b'Walking': 2185})"
      ]
     },
     "execution_count": 8,
     "metadata": {},
     "output_type": "execute_result"
    }
   ],
   "source": [
    "Counter(wisdm.data_df['class'])"
   ]
  },
  {
   "cell_type": "code",
   "execution_count": 9,
   "metadata": {
    "scrolled": false
   },
   "outputs": [
    {
     "name": "stdout",
     "output_type": "stream",
     "text": [
      "User : 194\n",
      "\t Personal Accuracy : M=0.883, SD=0.037\n",
      "\t Impersonal Accuracy : M=0.650, SD=0.087\n",
      "\t Hybrid Accuracy : M=0.883, SD=0.037\n",
      "User : 998\n",
      "\t Personal Accuracy : M=1.000, SD=0.000\n",
      "\t Impersonal Accuracy : M=0.000, SD=0.000\n",
      "\t Hybrid Accuracy : M=1.000, SD=0.000\n",
      "User : 1097\n",
      "User : 1104\n",
      "\t Personal Accuracy : M=0.850, SD=0.050\n",
      "\t Impersonal Accuracy : M=0.450, SD=0.050\n",
      "\t Hybrid Accuracy : M=0.825, SD=0.064\n",
      "User : 1117\n",
      "\t Personal Accuracy : M=0.900, SD=0.000\n",
      "\t Impersonal Accuracy : M=0.417, SD=0.050\n",
      "\t Hybrid Accuracy : M=0.875, SD=0.028\n",
      "User : 1205\n",
      "User : 1238\n",
      "\t Personal Accuracy : M=0.883, SD=0.017\n",
      "\t Impersonal Accuracy : M=0.067, SD=0.041\n",
      "\t Hybrid Accuracy : M=0.900, SD=0.041\n",
      "User : 1246\n",
      "\t Personal Accuracy : M=1.000, SD=0.000\n",
      "\t Impersonal Accuracy : M=1.000, SD=0.000\n",
      "\t Hybrid Accuracy : M=1.000, SD=0.000\n",
      "User : 1247\n",
      "User : 1253\n",
      "\t Personal Accuracy : M=0.967, SD=0.000\n",
      "\t Impersonal Accuracy : M=0.533, SD=0.000\n",
      "\t Hybrid Accuracy : M=0.967, SD=0.000\n",
      "User : 1269\n",
      "User : 1274\n",
      "\t Personal Accuracy : M=1.000, SD=0.000\n",
      "\t Impersonal Accuracy : M=0.000, SD=0.000\n",
      "\t Hybrid Accuracy : M=1.000, SD=0.000\n",
      "User : 1276\n",
      "User : 1277\n",
      "User : 1280\n",
      "User : 1319\n",
      "\t Personal Accuracy : M=0.933, SD=0.000\n",
      "\t Impersonal Accuracy : M=0.025, SD=0.014\n",
      "\t Hybrid Accuracy : M=0.933, SD=0.000\n",
      "User : 1320\n",
      "\t Personal Accuracy : M=0.975, SD=0.014\n",
      "\t Impersonal Accuracy : M=0.500, SD=0.047\n",
      "\t Hybrid Accuracy : M=0.967, SD=0.000\n",
      "User : 1477\n",
      "\t Personal Accuracy : M=1.000, SD=0.000\n",
      "\t Impersonal Accuracy : M=0.008, SD=0.014\n",
      "\t Hybrid Accuracy : M=1.000, SD=0.000\n",
      "User : 1480\n",
      "User : 1491\n",
      "User : 1511\n",
      "User : 1512\n",
      "\t Personal Accuracy : M=0.967, SD=0.000\n",
      "\t Impersonal Accuracy : M=0.067, SD=0.000\n",
      "\t Hybrid Accuracy : M=1.000, SD=0.000\n",
      "User : 1518\n",
      "User : 1531\n",
      "User : 1554\n",
      "User : 1559\n",
      "\t Personal Accuracy : M=1.000, SD=0.000\n",
      "\t Impersonal Accuracy : M=0.000, SD=0.000\n",
      "\t Hybrid Accuracy : M=1.000, SD=0.000\n",
      "User : 1603\n",
      "\t Personal Accuracy : M=0.908, SD=0.028\n",
      "\t Impersonal Accuracy : M=0.833, SD=0.033\n",
      "\t Hybrid Accuracy : M=0.975, SD=0.014\n",
      "User : 1676\n",
      "\t Personal Accuracy : M=0.850, SD=0.029\n",
      "\t Impersonal Accuracy : M=0.100, SD=0.000\n",
      "\t Hybrid Accuracy : M=0.850, SD=0.037\n",
      "User : 1679\n",
      "User : 1683\n",
      "User : 1696\n",
      "User : 1703\n",
      "\t Personal Accuracy : M=0.858, SD=0.043\n",
      "\t Impersonal Accuracy : M=0.342, SD=0.028\n",
      "\t Hybrid Accuracy : M=0.892, SD=0.072\n",
      "User : 1707\n",
      "\t Personal Accuracy : M=0.575, SD=0.064\n",
      "\t Impersonal Accuracy : M=0.317, SD=0.055\n",
      "\t Hybrid Accuracy : M=0.617, SD=0.037\n",
      "User : 1723\n",
      "User : 1724\n",
      "User : 1726\n",
      "User : 1742\n",
      "\t Personal Accuracy : M=0.975, SD=0.028\n",
      "\t Impersonal Accuracy : M=0.617, SD=0.037\n",
      "\t Hybrid Accuracy : M=1.000, SD=0.000\n",
      "User : 1745\n",
      "User : 1750\n",
      "User : 1757\n",
      "User : 1758\n",
      "\tNot enough labeled data for 1758\n",
      "User : 1759\n",
      "\t Personal Accuracy : M=0.908, SD=0.055\n",
      "\t Impersonal Accuracy : M=0.142, SD=0.014\n",
      "\t Hybrid Accuracy : M=1.000, SD=0.000\n",
      "User : 1761\n",
      "User : 1763\n",
      "User : 1774\n",
      "\t Personal Accuracy : M=0.975, SD=0.014\n",
      "\t Impersonal Accuracy : M=0.742, SD=0.043\n",
      "\t Hybrid Accuracy : M=0.983, SD=0.017\n",
      "User : 1775\n",
      "\t Personal Accuracy : M=0.983, SD=0.017\n",
      "\t Impersonal Accuracy : M=0.317, SD=0.050\n",
      "\t Hybrid Accuracy : M=1.000, SD=0.000\n",
      "User : 1778\n",
      "\t Personal Accuracy : M=0.800, SD=0.053\n",
      "\t Impersonal Accuracy : M=0.492, SD=0.049\n",
      "\t Hybrid Accuracy : M=0.808, SD=0.064\n",
      "User : 1793\n",
      "\t Personal Accuracy : M=0.933, SD=0.047\n",
      "\t Impersonal Accuracy : M=0.508, SD=0.014\n",
      "\t Hybrid Accuracy : M=0.950, SD=0.055\n",
      "User : 1797\n",
      "User : 1799\n",
      "\t Personal Accuracy : M=0.758, SD=0.055\n",
      "\t Impersonal Accuracy : M=0.392, SD=0.036\n",
      "\t Hybrid Accuracy : M=0.833, SD=0.091\n",
      "User : 1802\n",
      "User : 1809\n",
      "\t Personal Accuracy : M=0.933, SD=0.047\n",
      "\t Impersonal Accuracy : M=0.100, SD=0.024\n",
      "\t Hybrid Accuracy : M=0.900, SD=0.033\n",
      "User : 1813\n",
      "User : 1814\n"
     ]
    }
   ],
   "source": [
    "wisdm.set_data(version=\"1\", make_compatible=True)\n",
    "impersonal_df = wisdm.remove_all_nan(wisdm.data_df)\n",
    "impersonal_labels = np.array([t.decode(\"utf-8\") for t in impersonal_df['class'].as_matrix()])\n",
    "impersonal_features = impersonal_df.as_matrix(columns=[impersonal_df.columns[1:-1]])\n",
    "impersonal_scaler = StandardScaler().fit(impersonal_features)\n",
    "scaled_train_X = impersonal_scaler.transform(impersonal_features)\n",
    "impersonal_clf = wisdm.weka_RF()\n",
    "impersonal_clf.fit(scaled_train_X, impersonal_labels)\n",
    "impersonal_clf.set_params(n_estimators=10000, n_jobs=28)\n",
    "\n",
    "wisdm.set_data(version=\"2\", make_compatible=True)\n",
    "result_rows = []\n",
    "ignored_users = []\n",
    "\n",
    "for user_id in wisdm.user_ids:\n",
    "    print(\"User : %s\" % user_id)\n",
    "    user_df = wisdm.data_df[wisdm.data_df['user'] == user_id]\n",
    "    \n",
    "    if len(user_df) < 40:\n",
    "        ignored_users.append(user_id)\n",
    "        continue\n",
    "    \n",
    "    personal_labels = np.array([t.decode(\"utf-8\") for t in user_df['class'].as_matrix()])\n",
    "    personal_features = user_df.as_matrix(columns=[user_df.columns[1:-1]])\n",
    "    personal_label_counts = Counter(personal_labels)\n",
    "    \n",
    "    sss = StratifiedShuffleSplit(n_splits=4, test_size=30, train_size=10)\n",
    "    \n",
    "    #skf = StratifiedKFold(n_splits=3)\n",
    "    \n",
    "    personal_accs = []\n",
    "    impersonal_accs = []\n",
    "    hybrid_accs = []\n",
    "    \n",
    "    try:\n",
    "        for train_ind, test_ind in sss.split(personal_features, personal_labels):\n",
    "            active_labels = personal_labels[train_ind]\n",
    "            active_features = personal_features[train_ind]\n",
    "\n",
    "            test_labels = personal_labels[test_ind]\n",
    "            test_features = personal_features[test_ind]\n",
    "            \n",
    "            #print(\"Active Labels : %s\" % Counter(active_labels))\n",
    "            #print(\"Test Labels : %s\" % Counter(test_labels))\n",
    "\n",
    "            # personal accuracy\n",
    "            personal_scaler = StandardScaler().fit(active_features)\n",
    "            scaled_personal_features = personal_scaler.transform(active_features)\n",
    "            scaled_test_features = personal_scaler.transform(test_features)\n",
    "\n",
    "            personal_clf = wisdm.weka_RF().fit(scaled_personal_features, active_labels)\n",
    "            personal_clf.set_params(n_estimators=10000, n_jobs=28)\n",
    "\n",
    "            personal_predictions = personal_clf.predict(scaled_test_features)\n",
    "            personal_accuracy = accuracy_score(test_labels, personal_predictions)\n",
    "            personal_accs.append(personal_accuracy)\n",
    "            \n",
    "            # impersonal accuracy\n",
    "            scaled_test_features = impersonal_scaler.transform(test_features)\n",
    "            impersonal_predictions = impersonal_clf.predict(scaled_test_features)\n",
    "            impersonal_accuracy = accuracy_score(test_labels, impersonal_predictions)\n",
    "            impersonal_accs.append(impersonal_accuracy)\n",
    "            \n",
    "            # hybrid accuracy\n",
    "            hybrid_labels = np.hstack((active_labels, impersonal_labels))\n",
    "            hybrid_features = np.vstack((active_features, impersonal_features))\n",
    "\n",
    "            \n",
    "            # shuffle features and labels\n",
    "            c = list(zip(hybrid_labels, hybrid_features))\n",
    "            random.shuffle(c)\n",
    "            hybrid_labels, hybrid_features = zip(*c)\n",
    "            hybrid_scaler = StandardScaler().fit(hybrid_features)\n",
    "            scaled_hybrid_features = hybrid_scaler.transform(hybrid_features)\n",
    "            scaled_test_features = hybrid_scaler.transform(test_features)\n",
    "\n",
    "            hybrid_clf = wisdm.weka_RF()\n",
    "            hybrid_clf.set_params(n_estimators=10000, n_jobs=28)\n",
    "            hybrid_clf.fit(scaled_hybrid_features, hybrid_labels)\n",
    "            hybrid_predictions = hybrid_clf.predict(scaled_test_features)\n",
    "            hybrid_accuracy = accuracy_score(test_labels, hybrid_predictions)\n",
    "            hybrid_accs.append(hybrid_accuracy)\n",
    "    except ValueError as ve:\n",
    "        if \"The least populated class\" in ve.args[0]:\n",
    "            print(\"\\tNot enough labeled data for %s\" % user_id)\n",
    "            ignored_users.append(user_id)\n",
    "            continue\n",
    "        else:\n",
    "            raise ve\n",
    "    print(\"\\t Personal Accuracy : M=%.3f, SD=%.3f\" % (np.mean(personal_accs), np.std(personal_accs)))\n",
    "    print(\"\\t Impersonal Accuracy : M=%.3f, SD=%.3f\" % (np.mean(impersonal_accs), np.std(impersonal_accs)))\n",
    "    print(\"\\t Hybrid Accuracy : M=%.3f, SD=%.3f\" % (np.mean(hybrid_accs), np.std(hybrid_accs)))\n",
    "    result_row = {\"user_id\" : user_id,\n",
    "                   \"personal accuracies M\" : np.mean(personal_accs),\n",
    "                   \"personal accuracies SD\" : np.std(personal_accs),\n",
    "                   \"impersonal accuracies M\" : np.mean(impersonal_accs),\n",
    "                   \"impersonal accuracies SD\" : np.std(impersonal_accs),\n",
    "                   \"hybrid accuracies M\" : np.mean(hybrid_accs),\n",
    "                   \"hybrid accuracies SD\" : np.std(hybrid_accs)\n",
    "                 }\n",
    "    result_rows.append(result_row)\n",
    "results_df_10 = pd.DataFrame(result_rows)"
   ]
  },
  {
   "cell_type": "code",
   "execution_count": 10,
   "metadata": {
    "scrolled": true
   },
   "outputs": [
    {
     "name": "stdout",
     "output_type": "stream",
     "text": [
      "Impersonal Accuracies M=0.345, SD=0.289\n",
      "Personal Accuracies M=0.913, SD=0.097\n",
      "Hybrid Accuracies M=0.926, SD=0.091\n"
     ]
    }
   ],
   "source": [
    "print(\"Impersonal Accuracies M=%.3f, SD=%.3f\" % (results_df_10['impersonal accuracies M'].mean(), results_df_10['impersonal accuracies M'].std()))\n",
    "print(\"Personal Accuracies M=%.3f, SD=%.3f\" % (results_df_10['personal accuracies M'].mean(), results_df_10['personal accuracies M'].std()))\n",
    "print(\"Hybrid Accuracies M=%.3f, SD=%.3f\" % (results_df_10['hybrid accuracies M'].mean(), results_df_10['hybrid accuracies M'].std()))"
   ]
  },
  {
   "cell_type": "code",
   "execution_count": 11,
   "metadata": {
    "scrolled": true
   },
   "outputs": [
    {
     "data": {
      "text/plain": [
       "['1097',\n",
       " '1205',\n",
       " '1247',\n",
       " '1269',\n",
       " '1276',\n",
       " '1277',\n",
       " '1280',\n",
       " '1480',\n",
       " '1491',\n",
       " '1511',\n",
       " '1518',\n",
       " '1531',\n",
       " '1554',\n",
       " '1679',\n",
       " '1683',\n",
       " '1696',\n",
       " '1723',\n",
       " '1724',\n",
       " '1726',\n",
       " '1745',\n",
       " '1750',\n",
       " '1757',\n",
       " '1758',\n",
       " '1761',\n",
       " '1763',\n",
       " '1797',\n",
       " '1802',\n",
       " '1813',\n",
       " '1814']"
      ]
     },
     "execution_count": 11,
     "metadata": {},
     "output_type": "execute_result"
    }
   ],
   "source": [
    "ignored_users"
   ]
  },
  {
   "cell_type": "code",
   "execution_count": 14,
   "metadata": {
    "scrolled": false
   },
   "outputs": [
    {
     "data": {
      "application/vnd.plotly.v1+json": {
       "data": [
        {
         "boxpoints": "all",
         "jitter": 0.3,
         "marker": {
          "color": "red"
         },
         "name": "Impersonal",
         "pointpos": -0.5,
         "type": "box",
         "y": [
          0.6499999999999999,
          0,
          0.45,
          0.4166666666666667,
          0.06666666666666667,
          1,
          0.5333333333333333,
          0,
          0.025,
          0.5,
          0.008333333333333333,
          0.06666666666666667,
          0,
          0.8333333333333334,
          0.1,
          0.3416666666666667,
          0.31666666666666665,
          0.6166666666666667,
          0.14166666666666666,
          0.7416666666666667,
          0.31666666666666665,
          0.4916666666666667,
          0.5083333333333333,
          0.39166666666666666,
          0.1
         ]
        },
        {
         "boxpoints": "all",
         "jitter": 0.1,
         "marker": {
          "color": "blue"
         },
         "name": "Personal (10 Samples)",
         "pointpos": -0.5,
         "type": "box",
         "y": [
          0.8833333333333334,
          1,
          0.85,
          0.9,
          0.8833333333333333,
          1,
          0.9666666666666667,
          1,
          0.9333333333333333,
          0.975,
          1,
          0.9666666666666667,
          1,
          0.9083333333333333,
          0.8500000000000001,
          0.8583333333333333,
          0.575,
          0.9750000000000001,
          0.9083333333333333,
          0.9750000000000001,
          0.9833333333333334,
          0.8,
          0.9333333333333333,
          0.7583333333333333,
          0.9333333333333333
         ]
        },
        {
         "boxpoints": "all",
         "jitter": 0.1,
         "marker": {
          "color": "green"
         },
         "name": "Hybrid (10 Samples)",
         "pointpos": -0.5,
         "type": "box",
         "y": [
          0.8833333333333334,
          1,
          0.825,
          0.875,
          0.9,
          1,
          0.9666666666666667,
          1,
          0.9333333333333333,
          0.9666666666666667,
          1,
          1,
          1,
          0.975,
          0.85,
          0.8916666666666667,
          0.6166666666666667,
          1,
          1,
          0.9833333333333334,
          1,
          0.8083333333333333,
          0.9500000000000001,
          0.8333333333333335,
          0.9000000000000001
         ]
        }
       ],
       "layout": {
        "showlegend": false,
        "yaxis": {
         "title": "Accuracy"
        }
       }
      },
      "text/html": [
       "<div id=\"4dc79ecf-c2f9-4317-8fdd-929197a941c4\" style=\"height: 525px; width: 100%;\" class=\"plotly-graph-div\"></div><script type=\"text/javascript\">require([\"plotly\"], function(Plotly) { window.PLOTLYENV=window.PLOTLYENV || {};window.PLOTLYENV.BASE_URL=\"https://plot.ly\";Plotly.newPlot(\"4dc79ecf-c2f9-4317-8fdd-929197a941c4\", [{\"pointpos\": -0.5, \"boxpoints\": \"all\", \"y\": [0.6499999999999999, 0.0, 0.45, 0.4166666666666667, 0.06666666666666667, 1.0, 0.5333333333333333, 0.0, 0.025, 0.5, 0.008333333333333333, 0.06666666666666667, 0.0, 0.8333333333333334, 0.1, 0.3416666666666667, 0.31666666666666665, 0.6166666666666667, 0.14166666666666666, 0.7416666666666667, 0.31666666666666665, 0.4916666666666667, 0.5083333333333333, 0.39166666666666666, 0.1], \"marker\": {\"color\": \"red\"}, \"type\": \"box\", \"name\": \"Impersonal\", \"jitter\": 0.3}, {\"pointpos\": -0.5, \"boxpoints\": \"all\", \"y\": [0.8833333333333334, 1.0, 0.85, 0.9, 0.8833333333333333, 1.0, 0.9666666666666667, 1.0, 0.9333333333333333, 0.975, 1.0, 0.9666666666666667, 1.0, 0.9083333333333333, 0.8500000000000001, 0.8583333333333333, 0.575, 0.9750000000000001, 0.9083333333333333, 0.9750000000000001, 0.9833333333333334, 0.8, 0.9333333333333333, 0.7583333333333333, 0.9333333333333333], \"marker\": {\"color\": \"blue\"}, \"type\": \"box\", \"name\": \"Personal (10 Samples)\", \"jitter\": 0.1}, {\"pointpos\": -0.5, \"boxpoints\": \"all\", \"y\": [0.8833333333333334, 1.0, 0.825, 0.875, 0.9, 1.0, 0.9666666666666667, 1.0, 0.9333333333333333, 0.9666666666666667, 1.0, 1.0, 1.0, 0.975, 0.85, 0.8916666666666667, 0.6166666666666667, 1.0, 1.0, 0.9833333333333334, 1.0, 0.8083333333333333, 0.9500000000000001, 0.8333333333333335, 0.9000000000000001], \"marker\": {\"color\": \"green\"}, \"type\": \"box\", \"name\": \"Hybrid (10 Samples)\", \"jitter\": 0.1}], {\"yaxis\": {\"title\": \"Accuracy\"}, \"showlegend\": false}, {\"showLink\": true, \"linkText\": \"Export to plot.ly\"})});</script>"
      ],
      "text/vnd.plotly.v1+html": [
       "<div id=\"4dc79ecf-c2f9-4317-8fdd-929197a941c4\" style=\"height: 525px; width: 100%;\" class=\"plotly-graph-div\"></div><script type=\"text/javascript\">require([\"plotly\"], function(Plotly) { window.PLOTLYENV=window.PLOTLYENV || {};window.PLOTLYENV.BASE_URL=\"https://plot.ly\";Plotly.newPlot(\"4dc79ecf-c2f9-4317-8fdd-929197a941c4\", [{\"pointpos\": -0.5, \"boxpoints\": \"all\", \"y\": [0.6499999999999999, 0.0, 0.45, 0.4166666666666667, 0.06666666666666667, 1.0, 0.5333333333333333, 0.0, 0.025, 0.5, 0.008333333333333333, 0.06666666666666667, 0.0, 0.8333333333333334, 0.1, 0.3416666666666667, 0.31666666666666665, 0.6166666666666667, 0.14166666666666666, 0.7416666666666667, 0.31666666666666665, 0.4916666666666667, 0.5083333333333333, 0.39166666666666666, 0.1], \"marker\": {\"color\": \"red\"}, \"type\": \"box\", \"name\": \"Impersonal\", \"jitter\": 0.3}, {\"pointpos\": -0.5, \"boxpoints\": \"all\", \"y\": [0.8833333333333334, 1.0, 0.85, 0.9, 0.8833333333333333, 1.0, 0.9666666666666667, 1.0, 0.9333333333333333, 0.975, 1.0, 0.9666666666666667, 1.0, 0.9083333333333333, 0.8500000000000001, 0.8583333333333333, 0.575, 0.9750000000000001, 0.9083333333333333, 0.9750000000000001, 0.9833333333333334, 0.8, 0.9333333333333333, 0.7583333333333333, 0.9333333333333333], \"marker\": {\"color\": \"blue\"}, \"type\": \"box\", \"name\": \"Personal (10 Samples)\", \"jitter\": 0.1}, {\"pointpos\": -0.5, \"boxpoints\": \"all\", \"y\": [0.8833333333333334, 1.0, 0.825, 0.875, 0.9, 1.0, 0.9666666666666667, 1.0, 0.9333333333333333, 0.9666666666666667, 1.0, 1.0, 1.0, 0.975, 0.85, 0.8916666666666667, 0.6166666666666667, 1.0, 1.0, 0.9833333333333334, 1.0, 0.8083333333333333, 0.9500000000000001, 0.8333333333333335, 0.9000000000000001], \"marker\": {\"color\": \"green\"}, \"type\": \"box\", \"name\": \"Hybrid (10 Samples)\", \"jitter\": 0.1}], {\"yaxis\": {\"title\": \"Accuracy\"}, \"showlegend\": false}, {\"showLink\": true, \"linkText\": \"Export to plot.ly\"})});</script>"
      ]
     },
     "metadata": {},
     "output_type": "display_data"
    }
   ],
   "source": [
    "trace0 = go.Box(\n",
    "    y=results_df_10['impersonal accuracies M'],\n",
    "    name='Impersonal',\n",
    "    marker=dict(\n",
    "        color='red',\n",
    "    ),\n",
    "    boxpoints='all',\n",
    "    jitter=0.3,\n",
    "    pointpos=-0.5\n",
    ")\n",
    "\n",
    "trace1 = go.Box(\n",
    "    y=results_df_10['personal accuracies M'],\n",
    "    name='Personal (10 Samples)',\n",
    "    marker=dict(\n",
    "        color='blue',\n",
    "    ),\n",
    "    boxpoints='all',\n",
    "    jitter=0.1,\n",
    "    pointpos=-0.5\n",
    ")\n",
    "\n",
    "trace2 = go.Box(\n",
    "    y=results_df_10['hybrid accuracies M'],\n",
    "    name='Hybrid (10 Samples)',\n",
    "    marker=dict(\n",
    "        color='green',\n",
    "    ),\n",
    "    boxpoints='all',\n",
    "    jitter=0.1,\n",
    "    pointpos=-0.5\n",
    ")\n",
    "data = [trace0, trace1, trace2]\n",
    "layout = go.Layout(yaxis=dict(title=\"Accuracy\"), showlegend=False)\n",
    "fig=go.Figure(data=data,layout=layout)\n",
    "iplot(fig)"
   ]
  },
  {
   "cell_type": "markdown",
   "metadata": {},
   "source": [
    "# How many users labeled instances representing all activities?"
   ]
  },
  {
   "cell_type": "code",
   "execution_count": null,
   "metadata": {
    "collapsed": true
   },
   "outputs": [],
   "source": [
    "wisdm.set_data(version=\"2\", make_compatible=True)\n",
    "class_labels = [cl.decode(\"utf-8\") for cl in wisdm.data_df['class'].unique()]\n",
    "user_label_presence = {}\n",
    "\n",
    "for user_id in wisdm.user_ids:\n",
    "    user_df = wisdm.remove_all_nan(wisdm.data_df[wisdm.data_df['user'] == user_id])\n",
    "    labels = [cl.decode(\"utf-8\") for cl in user_df['class']]\n",
    "    \n",
    "    label_presence = []\n",
    "    for cl in class_labels:\n",
    "        if cl in labels:\n",
    "            label_presence.append(True)\n",
    "        else:\n",
    "            label_presence.append(False)\n",
    "    user_label_presence[user_id] = label_presence\n",
    "\n",
    "users_with_balanced_data = []\n",
    "\n",
    "for user_id in wisdm.user_ids:\n",
    "    user_labels_arr = user_label_presence[user_id]\n",
    "    has_all_data = all(l==True for l in user_labels_arr)\n",
    "    #print(\"%s : %s\" % (user_id, has_all_data))\n",
    "    if has_all_data:\n",
    "        users_with_balanced_data.append(user_id)\n",
    "\n",
    "print(\"Users with balanced data : %s\" % users_with_balanced_data)"
   ]
  },
  {
   "cell_type": "code",
   "execution_count": null,
   "metadata": {
    "collapsed": true,
    "scrolled": true
   },
   "outputs": [],
   "source": [
    "results_df[results_df['user_id'].isin(users_with_balanced_data)]['impersonal accuracies M'].mean()"
   ]
  },
  {
   "cell_type": "code",
   "execution_count": null,
   "metadata": {
    "collapsed": true
   },
   "outputs": [],
   "source": [
    "results_df[results_df['user_id'].isin(users_with_balanced_data)]['personal accuracies M'].mean()"
   ]
  },
  {
   "cell_type": "markdown",
   "metadata": {},
   "source": [
    "# Same thing with 30 training samples instead of 10"
   ]
  },
  {
   "cell_type": "code",
   "execution_count": 15,
   "metadata": {
    "scrolled": true
   },
   "outputs": [
    {
     "name": "stdout",
     "output_type": "stream",
     "text": [
      "User : 194\n",
      "\t Personal Accuracy : M=0.950, SD=0.029\n",
      "\t Impersonal Accuracy : M=0.600, SD=0.000\n",
      "\t Hybrid Accuracy : M=0.933, SD=0.047\n",
      "User : 998\n",
      "\t Personal Accuracy : M=1.000, SD=0.000\n",
      "\t Impersonal Accuracy : M=0.000, SD=0.000\n",
      "\t Hybrid Accuracy : M=0.983, SD=0.029\n",
      "User : 1097\n",
      "User : 1104\n",
      "\t Personal Accuracy : M=0.950, SD=0.029\n",
      "\t Impersonal Accuracy : M=0.300, SD=0.145\n",
      "\t Hybrid Accuracy : M=0.967, SD=0.033\n",
      "User : 1117\n",
      "\t Personal Accuracy : M=0.983, SD=0.029\n",
      "\t Impersonal Accuracy : M=0.500, SD=0.075\n",
      "\t Hybrid Accuracy : M=0.983, SD=0.029\n",
      "User : 1205\n",
      "User : 1238\n",
      "\t Personal Accuracy : M=0.900, SD=0.033\n",
      "\t Impersonal Accuracy : M=0.150, SD=0.029\n",
      "\t Hybrid Accuracy : M=0.900, SD=0.033\n",
      "User : 1246\n",
      "\t Personal Accuracy : M=1.000, SD=0.000\n",
      "\t Impersonal Accuracy : M=1.000, SD=0.000\n",
      "\t Hybrid Accuracy : M=1.000, SD=0.000\n",
      "User : 1247\n",
      "User : 1253\n",
      "\t Personal Accuracy : M=1.000, SD=0.000\n",
      "\t Impersonal Accuracy : M=0.533, SD=0.000\n",
      "\t Hybrid Accuracy : M=1.000, SD=0.000\n",
      "User : 1269\n",
      "User : 1274\n",
      "\t Personal Accuracy : M=1.000, SD=0.000\n",
      "\t Impersonal Accuracy : M=0.000, SD=0.000\n",
      "\t Hybrid Accuracy : M=1.000, SD=0.000\n",
      "User : 1276\n",
      "User : 1277\n",
      "User : 1280\n",
      "User : 1319\n",
      "\t Personal Accuracy : M=0.983, SD=0.029\n",
      "\t Impersonal Accuracy : M=0.233, SD=0.075\n",
      "\t Hybrid Accuracy : M=0.983, SD=0.029\n",
      "User : 1320\n",
      "\t Personal Accuracy : M=0.967, SD=0.033\n",
      "\t Impersonal Accuracy : M=0.383, SD=0.029\n",
      "\t Hybrid Accuracy : M=0.967, SD=0.033\n",
      "User : 1477\n",
      "\t Personal Accuracy : M=1.000, SD=0.000\n",
      "\t Impersonal Accuracy : M=0.067, SD=0.000\n",
      "\t Hybrid Accuracy : M=1.000, SD=0.000\n",
      "User : 1480\n",
      "User : 1491\n",
      "User : 1511\n",
      "User : 1512\n",
      "\t Personal Accuracy : M=1.000, SD=0.000\n",
      "\t Impersonal Accuracy : M=0.100, SD=0.033\n",
      "\t Hybrid Accuracy : M=1.000, SD=0.000\n",
      "User : 1518\n",
      "User : 1531\n",
      "User : 1554\n",
      "User : 1559\n",
      "\t Personal Accuracy : M=1.000, SD=0.000\n",
      "\t Impersonal Accuracy : M=0.033, SD=0.033\n",
      "\t Hybrid Accuracy : M=1.000, SD=0.000\n",
      "User : 1603\n",
      "\t Personal Accuracy : M=0.950, SD=0.029\n",
      "\t Impersonal Accuracy : M=0.767, SD=0.100\n",
      "\t Hybrid Accuracy : M=0.950, SD=0.029\n",
      "User : 1676\n",
      "\t Personal Accuracy : M=0.867, SD=0.000\n",
      "\t Impersonal Accuracy : M=0.133, SD=0.000\n",
      "\t Hybrid Accuracy : M=0.850, SD=0.029\n",
      "User : 1679\n",
      "User : 1683\n",
      "User : 1696\n",
      "User : 1703\n",
      "\t Personal Accuracy : M=0.933, SD=0.000\n",
      "\t Impersonal Accuracy : M=0.417, SD=0.087\n",
      "\t Hybrid Accuracy : M=0.950, SD=0.029\n",
      "User : 1707\n",
      "\t Personal Accuracy : M=0.717, SD=0.128\n",
      "\t Impersonal Accuracy : M=0.150, SD=0.029\n",
      "\t Hybrid Accuracy : M=0.767, SD=0.137\n",
      "User : 1723\n",
      "User : 1724\n",
      "User : 1726\n",
      "User : 1742\n",
      "\t Personal Accuracy : M=1.000, SD=0.000\n",
      "\t Impersonal Accuracy : M=0.550, SD=0.073\n",
      "\t Hybrid Accuracy : M=1.000, SD=0.000\n",
      "User : 1745\n",
      "User : 1750\n",
      "User : 1757\n",
      "User : 1758\n",
      "\tNot enough labeled data for 1758\n",
      "User : 1759\n",
      "\t Personal Accuracy : M=1.000, SD=0.000\n",
      "\t Impersonal Accuracy : M=0.467, SD=0.082\n",
      "\t Hybrid Accuracy : M=1.000, SD=0.000\n",
      "User : 1761\n",
      "User : 1763\n",
      "User : 1774\n",
      "\t Personal Accuracy : M=1.000, SD=0.000\n",
      "\t Impersonal Accuracy : M=0.800, SD=0.000\n",
      "\t Hybrid Accuracy : M=1.000, SD=0.000\n",
      "User : 1775\n",
      "\t Personal Accuracy : M=1.000, SD=0.000\n",
      "\t Impersonal Accuracy : M=0.283, SD=0.099\n",
      "\t Hybrid Accuracy : M=1.000, SD=0.000\n",
      "User : 1778\n",
      "\t Personal Accuracy : M=0.967, SD=0.033\n",
      "\t Impersonal Accuracy : M=0.667, SD=0.067\n",
      "\t Hybrid Accuracy : M=0.967, SD=0.033\n",
      "User : 1793\n",
      "\t Personal Accuracy : M=1.000, SD=0.000\n",
      "\t Impersonal Accuracy : M=0.533, SD=0.000\n",
      "\t Hybrid Accuracy : M=1.000, SD=0.000\n",
      "User : 1797\n",
      "User : 1799\n",
      "\t Personal Accuracy : M=0.817, SD=0.136\n",
      "\t Impersonal Accuracy : M=0.417, SD=0.099\n",
      "\t Hybrid Accuracy : M=0.783, SD=0.128\n",
      "User : 1802\n",
      "User : 1809\n",
      "\t Personal Accuracy : M=1.000, SD=0.000\n",
      "\t Impersonal Accuracy : M=0.017, SD=0.029\n",
      "\t Hybrid Accuracy : M=1.000, SD=0.000\n",
      "User : 1813\n",
      "User : 1814\n"
     ]
    }
   ],
   "source": [
    "wisdm.set_data(version=\"1\", make_compatible=True)\n",
    "impersonal_df = wisdm.remove_all_nan(wisdm.data_df)\n",
    "impersonal_labels = np.array([t.decode(\"utf-8\") for t in impersonal_df['class'].as_matrix()])\n",
    "impersonal_features = impersonal_df.as_matrix(columns=[impersonal_df.columns[1:-1]])\n",
    "impersonal_scaler = StandardScaler().fit(impersonal_features)\n",
    "scaled_train_X = impersonal_scaler.transform(impersonal_features)\n",
    "impersonal_clf = wisdm.weka_RF()\n",
    "impersonal_clf.fit(scaled_train_X, impersonal_labels)\n",
    "impersonal_clf.set_params(n_estimators=10000, n_jobs=28)\n",
    "\n",
    "wisdm.set_data(version=\"2\", make_compatible=True)\n",
    "result_rows = []\n",
    "ignored_users = []\n",
    "\n",
    "for user_id in wisdm.user_ids:\n",
    "    print(\"User : %s\" % user_id)\n",
    "    user_df = wisdm.data_df[wisdm.data_df['user'] == user_id]\n",
    "    \n",
    "    if len(user_df) < 40:\n",
    "        ignored_users.append(user_id)\n",
    "        continue\n",
    "    \n",
    "    personal_labels = np.array([t.decode(\"utf-8\") for t in user_df['class'].as_matrix()])\n",
    "    personal_features = user_df.as_matrix(columns=[user_df.columns[1:-1]])\n",
    "    personal_label_counts = Counter(personal_labels)\n",
    "    \n",
    "    sss = StratifiedShuffleSplit(n_splits=4, test_size=15, train_size=30)\n",
    "    \n",
    "    #skf = StratifiedKFold(n_splits=3)\n",
    "    \n",
    "    personal_accs = []\n",
    "    impersonal_accs = []\n",
    "    hybrid_accs = []\n",
    "    \n",
    "    try:\n",
    "        for train_ind, test_ind in sss.split(personal_features, personal_labels):\n",
    "            active_labels = personal_labels[train_ind]\n",
    "            active_features = personal_features[train_ind]\n",
    "\n",
    "            test_labels = personal_labels[test_ind]\n",
    "            test_features = personal_features[test_ind]\n",
    "            \n",
    "            #print(\"Active Labels : %s\" % Counter(active_labels))\n",
    "            #print(\"Test Labels : %s\" % Counter(test_labels))\n",
    "\n",
    "            # personal accuracy\n",
    "            personal_scaler = StandardScaler().fit(active_features)\n",
    "            scaled_personal_features = personal_scaler.transform(active_features)\n",
    "            scaled_test_features = personal_scaler.transform(test_features)\n",
    "\n",
    "            personal_clf = wisdm.weka_RF().fit(scaled_personal_features, active_labels)\n",
    "            personal_clf.set_params(n_estimators=10000, n_jobs=28)\n",
    "\n",
    "            personal_predictions = personal_clf.predict(scaled_test_features)\n",
    "            personal_accuracy = accuracy_score(test_labels, personal_predictions)\n",
    "            personal_accs.append(personal_accuracy)\n",
    "            \n",
    "            # impersonal accuracy\n",
    "            scaled_test_features = impersonal_scaler.transform(test_features)\n",
    "            impersonal_predictions = impersonal_clf.predict(scaled_test_features)\n",
    "            impersonal_accuracy = accuracy_score(test_labels, impersonal_predictions)\n",
    "            impersonal_accs.append(impersonal_accuracy)\n",
    "            \n",
    "            # hybrid accuracy\n",
    "            hybrid_labels = np.hstack((active_labels, impersonal_labels))\n",
    "            hybrid_features = np.vstack((active_features, impersonal_features))\n",
    "\n",
    "            \n",
    "            # shuffle features and labels\n",
    "            c = list(zip(hybrid_labels, hybrid_features))\n",
    "            random.shuffle(c)\n",
    "            hybrid_labels, hybrid_features = zip(*c)\n",
    "            hybrid_scaler = StandardScaler().fit(hybrid_features)\n",
    "            scaled_hybrid_features = hybrid_scaler.transform(hybrid_features)\n",
    "            scaled_test_features = hybrid_scaler.transform(test_features)\n",
    "\n",
    "            hybrid_clf = wisdm.weka_RF()\n",
    "            hybrid_clf.set_params(n_estimators=10000, n_jobs=28)\n",
    "            hybrid_clf.fit(scaled_hybrid_features, hybrid_labels)\n",
    "            hybrid_predictions = hybrid_clf.predict(scaled_test_features)\n",
    "            hybrid_accuracy = accuracy_score(test_labels, hybrid_predictions)\n",
    "            hybrid_accs.append(hybrid_accuracy)\n",
    "    except ValueError as ve:\n",
    "        if \"The least populated class\" in ve.args[0]:\n",
    "            print(\"\\tNot enough labeled data for %s\" % user_id)\n",
    "            ignored_users.append(user_id)\n",
    "            continue\n",
    "        else:\n",
    "            raise ve\n",
    "    print(\"\\t Personal Accuracy : M=%.3f, SD=%.3f\" % (np.mean(personal_accs), np.std(personal_accs)))\n",
    "    print(\"\\t Impersonal Accuracy : M=%.3f, SD=%.3f\" % (np.mean(impersonal_accs), np.std(impersonal_accs)))\n",
    "    print(\"\\t Hybrid Accuracy : M=%.3f, SD=%.3f\" % (np.mean(hybrid_accs), np.std(hybrid_accs)))\n",
    "    result_row = {\"user_id\" : user_id,\n",
    "                   \"personal accuracies M\" : np.mean(personal_accs),\n",
    "                   \"personal accuracies SD\" : np.std(personal_accs),\n",
    "                   \"impersonal accuracies M\" : np.mean(impersonal_accs),\n",
    "                   \"impersonal accuracies SD\" : np.std(impersonal_accs),\n",
    "                   \"hybrid accuracies M\" : np.mean(hybrid_accs),\n",
    "                   \"hybrid accuracies SD\" : np.std(hybrid_accs)\n",
    "                 }\n",
    "    result_rows.append(result_row)\n",
    "results_df_30 = pd.DataFrame(result_rows)"
   ]
  },
  {
   "cell_type": "code",
   "execution_count": 16,
   "metadata": {},
   "outputs": [
    {
     "ename": "NameError",
     "evalue": "name 'results_df_30' is not defined",
     "output_type": "error",
     "traceback": [
      "\u001b[0;31m---------------------------------------------------------------------------\u001b[0m",
      "\u001b[0;31mNameError\u001b[0m                                 Traceback (most recent call last)",
      "\u001b[0;32m<ipython-input-16-ba2228ad74be>\u001b[0m in \u001b[0;36m<module>\u001b[0;34m()\u001b[0m\n\u001b[0;32m----> 1\u001b[0;31m \u001b[0mprint\u001b[0m\u001b[0;34m(\u001b[0m\u001b[0;34m\"Impersonal Accuracies M=%.3f, SD=%.3f\"\u001b[0m \u001b[0;34m%\u001b[0m \u001b[0;34m(\u001b[0m\u001b[0mresults_df_30\u001b[0m\u001b[0;34m[\u001b[0m\u001b[0;34m'impersonal accuracies M'\u001b[0m\u001b[0;34m]\u001b[0m\u001b[0;34m.\u001b[0m\u001b[0mmean\u001b[0m\u001b[0;34m(\u001b[0m\u001b[0;34m)\u001b[0m\u001b[0;34m,\u001b[0m \u001b[0mresults_df_30\u001b[0m\u001b[0;34m[\u001b[0m\u001b[0;34m'impersonal accuracies M'\u001b[0m\u001b[0;34m]\u001b[0m\u001b[0;34m.\u001b[0m\u001b[0mstd\u001b[0m\u001b[0;34m(\u001b[0m\u001b[0;34m)\u001b[0m\u001b[0;34m)\u001b[0m\u001b[0;34m)\u001b[0m\u001b[0;34m\u001b[0m\u001b[0m\n\u001b[0m\u001b[1;32m      2\u001b[0m \u001b[0mprint\u001b[0m\u001b[0;34m(\u001b[0m\u001b[0;34m\"Personal Accuracies M=%.3f, SD=%.3f\"\u001b[0m \u001b[0;34m%\u001b[0m \u001b[0;34m(\u001b[0m\u001b[0mresults_df_30\u001b[0m\u001b[0;34m[\u001b[0m\u001b[0;34m'personal accuracies M'\u001b[0m\u001b[0;34m]\u001b[0m\u001b[0;34m.\u001b[0m\u001b[0mmean\u001b[0m\u001b[0;34m(\u001b[0m\u001b[0;34m)\u001b[0m\u001b[0;34m,\u001b[0m \u001b[0mresults_df_30\u001b[0m\u001b[0;34m[\u001b[0m\u001b[0;34m'personal accuracies M'\u001b[0m\u001b[0;34m]\u001b[0m\u001b[0;34m.\u001b[0m\u001b[0mstd\u001b[0m\u001b[0;34m(\u001b[0m\u001b[0;34m)\u001b[0m\u001b[0;34m)\u001b[0m\u001b[0;34m)\u001b[0m\u001b[0;34m\u001b[0m\u001b[0m\n\u001b[1;32m      3\u001b[0m \u001b[0mprint\u001b[0m\u001b[0;34m(\u001b[0m\u001b[0;34m\"Hybrid Accuracies M=%.3f, SD=%.3f\"\u001b[0m \u001b[0;34m%\u001b[0m \u001b[0;34m(\u001b[0m\u001b[0mresults_df_30\u001b[0m\u001b[0;34m[\u001b[0m\u001b[0;34m'hybrid accuracies M'\u001b[0m\u001b[0;34m]\u001b[0m\u001b[0;34m.\u001b[0m\u001b[0mmean\u001b[0m\u001b[0;34m(\u001b[0m\u001b[0;34m)\u001b[0m\u001b[0;34m,\u001b[0m \u001b[0mresults_df_30\u001b[0m\u001b[0;34m[\u001b[0m\u001b[0;34m'hybrid accuracies M'\u001b[0m\u001b[0;34m]\u001b[0m\u001b[0;34m.\u001b[0m\u001b[0mstd\u001b[0m\u001b[0;34m(\u001b[0m\u001b[0;34m)\u001b[0m\u001b[0;34m)\u001b[0m\u001b[0;34m)\u001b[0m\u001b[0;34m\u001b[0m\u001b[0m\n",
      "\u001b[0;31mNameError\u001b[0m: name 'results_df_30' is not defined"
     ]
    }
   ],
   "source": [
    "print(\"Impersonal Accuracies M=%.3f, SD=%.3f\" % (results_df_30['impersonal accuracies M'].mean(), results_df_30['impersonal accuracies M'].std()))\n",
    "print(\"Personal Accuracies M=%.3f, SD=%.3f\" % (results_df_30['personal accuracies M'].mean(), results_df_30['personal accuracies M'].std()))\n",
    "print(\"Hybrid Accuracies M=%.3f, SD=%.3f\" % (results_df_30['hybrid accuracies M'].mean(), results_df_30['hybrid accuracies M'].std()))"
   ]
  },
  {
   "cell_type": "code",
   "execution_count": null,
   "metadata": {
    "collapsed": true
   },
   "outputs": [],
   "source": [
    "trace0 = go.Box(\n",
    "    y=results_df_30['impersonal accuracies M'],\n",
    "    name='Impersonal',\n",
    "    marker=dict(\n",
    "        color='red',\n",
    "    ),\n",
    "    boxpoints='all',\n",
    "    jitter=0.3,\n",
    "    pointpos=-0.5\n",
    ")\n",
    "\n",
    "trace1 = go.Box(\n",
    "    y=results_df_30['personal accuracies M'],\n",
    "    name='Personal',\n",
    "    marker=dict(\n",
    "        color='blue',\n",
    "    ),\n",
    "    boxpoints='all',\n",
    "    jitter=0.1,\n",
    "    pointpos=-0.5\n",
    ")\n",
    "\n",
    "trace2 = go.Box(\n",
    "    y=results_df_30['hybrid accuracies M'],\n",
    "    name='Hybrid',\n",
    "    marker=dict(\n",
    "        color='green',\n",
    "    ),\n",
    "    boxpoints='all',\n",
    "    jitter=0.1,\n",
    "    pointpos=-0.5\n",
    ")\n",
    "data = [trace0, trace1, trace2]\n",
    "layout = go.Layout(yaxis=dict(title=\"Accuracy\"))\n",
    "fig=go.Figure(data=data,layout=layout)\n",
    "iplot(fig)"
   ]
  },
  {
   "cell_type": "code",
   "execution_count": null,
   "metadata": {
    "collapsed": true
   },
   "outputs": [],
   "source": [
    "personal_is_best_10 = []\n",
    "impersonal_is_best_10 = []\n",
    "hybrid_is_best_10 = []\n",
    "\n",
    "for ind, row in results_df_10.iterrows():\n",
    "    accs = [row['personal accuracies M'], row['impersonal accuracies M'], row['hybrid accuracies M']]\n",
    "    #print(accs)\n",
    "    best = np.argmax(accs)\n",
    "    #print(best)\n",
    "    if best == 0:\n",
    "        personal_is_best_10.append(row['user_id'])\n",
    "    if best == 1:\n",
    "        impersonal_is_best_10.append(row['user_id'])\n",
    "    if best == 2:\n",
    "        hybrid_is_best_10.append(row['user_id'])\n",
    "print(\"%s users get best from personal\" % len(personal_is_best_10))\n",
    "print(\"%s users get best from impersonal\" % len(impersonal_is_best_10))\n",
    "print(\"%s users get best from hybrid\" % len(hybrid_is_best_10))\n",
    "\n",
    "personal_is_best_30 = []\n",
    "impersonal_is_best_30 = []\n",
    "hybrid_is_best_30 = []\n",
    "\n",
    "for ind, row in results_df_30.iterrows():\n",
    "    accs = [row['personal accuracies M'], row['impersonal accuracies M'], row['hybrid accuracies M']]\n",
    "    #print(accs)\n",
    "    best = np.argmax(accs)\n",
    "    #print(best)\n",
    "    if best == 0:\n",
    "        personal_is_best_30.append(row['user_id'])\n",
    "    if best == 1:\n",
    "        impersonal_is_best_30.append(row['user_id'])\n",
    "    if best == 2:\n",
    "        hybrid_is_best_30.append(row['user_id'])\n",
    "print(\"%s users get best from personal\" % len(personal_is_best_30))\n",
    "print(\"%s users get best from impersonal\" % len(impersonal_is_best_30))\n",
    "print(\"%s users get best from hybrid\" % len(hybrid_is_best_30))\n",
    "\n",
    "trace1 = go.Bar(\n",
    "    x=['10 samples', '30 samples'],\n",
    "    y=[len(personal_is_best_10), len(personal_is_best_30)],\n",
    "    marker=dict(color=\"blue\"),\n",
    "    name='Personal Data'\n",
    ")\n",
    "\n",
    "trace2 = go.Bar(\n",
    "    x=['10 samples', '30 samples'],\n",
    "    y=[len(hybrid_is_best_10), len(hybrid_is_best_30)],\n",
    "    marker=dict(color=\"green\"),\n",
    "    name='Hybrid Data'\n",
    ")\n",
    "\n",
    "data = [trace1, trace2]\n",
    "layout = go.Layout(\n",
    "    barmode='stack',\n",
    "    xaxis=dict(title=\"# of personal samples\"),\n",
    "    yaxis=dict(title=\"# of users\")\n",
    ")\n",
    "\n",
    "fig = go.Figure(data=data, layout=layout)\n",
    "iplot(fig, filename='stacked-bar')\n"
   ]
  },
  {
   "cell_type": "markdown",
   "metadata": {
    "collapsed": true
   },
   "source": [
    "## Q : Is impersonal model uncertainty good enough to help our model?"
   ]
  },
  {
   "cell_type": "code",
   "execution_count": null,
   "metadata": {
    "collapsed": true
   },
   "outputs": [],
   "source": []
  },
  {
   "cell_type": "markdown",
   "metadata": {},
   "source": [
    "# Method for class  balancing"
   ]
  },
  {
   "cell_type": "code",
   "execution_count": null,
   "metadata": {
    "collapsed": true
   },
   "outputs": [],
   "source": [
    "def stratified_sample(all_labels, num_per_class):\n",
    "    classes = list(set(all_labels))\n",
    "    print(classes)\n",
    "    sample_indeces = []\n",
    "    \n",
    "    for cl in classes:\n",
    "        class_indeces = np.array([i for i in range(len(all_labels)) if all_labels[i] == cl])\n",
    "        print(class_indeces)\n",
    "        class_sample_ind = class_indeces[np.random.choice(len(class_indeces), num_per_class, replace=False)]\n",
    "        sample_indeces += list(class_sample_ind)\n",
    "    \n",
    "    np.random.shuffle(sample_indeces)\n",
    "    return sample_indeces"
   ]
  }
 ],
 "metadata": {
  "kernelspec": {
   "display_name": "Python 3",
   "language": "python",
   "name": "python3"
  },
  "language_info": {
   "codemirror_mode": {
    "name": "ipython",
    "version": 3
   },
   "file_extension": ".py",
   "mimetype": "text/x-python",
   "name": "python",
   "nbconvert_exporter": "python",
   "pygments_lexer": "ipython3",
   "version": "3.4.5"
  }
 },
 "nbformat": 4,
 "nbformat_minor": 2
}
