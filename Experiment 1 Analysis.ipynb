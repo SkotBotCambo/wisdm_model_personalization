{
 "cells": [
  {
   "cell_type": "code",
   "execution_count": 3,
   "metadata": {},
   "outputs": [
    {
     "name": "stdout",
     "output_type": "stream",
     "text": [
      "total 76\r\n",
      "drwxrwxr-x. 2 sac086 sac086 4096 Aug 21 16:57 \u001b[0m\u001b[01;34mexperiment_08-17\u001b[0m/\r\n",
      "drwxrwxr-x. 2 sac086 sac086 4096 Aug 24 10:01 \u001b[01;34mexperiment_08-21_v2_dataset\u001b[0m/\r\n",
      "drwxrwxr-x. 2 sac086 sac086 4096 Aug 23 13:55 \u001b[01;34mexperiment_08-23_train_v1_test_v2\u001b[0m/\r\n",
      "drwxrwxr-x. 2 sac086 sac086 4096 Aug 24 16:10 \u001b[01;34mexperiment_08-24_train_v1_test_v2\u001b[0m/\r\n",
      "drwxrwxr-x. 2 sac086 sac086   10 Aug 29 18:48 \u001b[01;34mexperiment_08-24_train_v2\u001b[0m/\r\n",
      "drwxrwxr-x. 2 sac086 sac086 4096 Aug 28 17:22 \u001b[01;34mexperiment_08-28_train_v1_test_v2_active1\u001b[0m/\r\n",
      "drwxrwxr-x. 2 sac086 sac086 4096 Aug 28 15:37 \u001b[01;34mexperiment_08-28_train_v1_test_v2_unstratified\u001b[0m/\r\n",
      "drwxrwxr-x. 2 sac086 sac086 4096 Aug 30 09:21 \u001b[01;34mexperiment_08-29_train_v1_test_v2_active1\u001b[0m/\r\n",
      "drwxrwxr-x. 2 sac086 sac086 4096 Aug 30 09:43 \u001b[01;34mexperiment_08-29_train_v1_test_v2_active2\u001b[0m/\r\n",
      "drwxrwxr-x. 2 sac086 sac086 4096 Aug 31 18:53 \u001b[01;34mexperiment_08-31_train_v1_test_v2_random\u001b[0m/\r\n",
      "drwxrwxr-x. 2 sac086 sac086 4096 Sep  1 12:44 \u001b[01;34mexperiment_09-01_train_v1_random\u001b[0m/\r\n",
      "drwxrwxr-x. 2 sac086 sac086   30 Sep  1 14:20 \u001b[01;34mexperiment_09-01_train_v1_with_gc_approach\u001b[0m/\r\n",
      "drwxrwxr-x. 2 sac086 sac086 4096 Sep  2 10:04 \u001b[01;34mexperiment_09-01_train_v1_with_random_and_least_certain\u001b[0m/\r\n",
      "drwxrwxr-x. 2 sac086 sac086 4096 Sep  1 13:05 \u001b[01;34mexperiment_09-01_train_v2_random\u001b[0m/\r\n",
      "drwxrwxr-x. 3 sac086 sac086 4096 Sep  5 09:38 \u001b[01;34mexperiment_09-02_train_v1_with_random_and_least_certain\u001b[0m/\r\n",
      "drwxrwxr-x. 2 sac086 sac086 4096 Sep  4 10:30 \u001b[01;34mexperiment_09-03_train_v2_with_random_and_least_certain\u001b[0m/\r\n",
      "drwxrwxr-x. 2 sac086 sac086 4096 Sep  4 11:40 \u001b[01;34mexperiment_09-04_train_v1_test_v2_with_random_and_least_certain\u001b[0m\u001b[K/\r\n",
      "drwxrwxr-x. 2 sac086 sac086 4096 Sep  6 13:06 \u001b[01;34mexperiment_09-05_train_v1_test_v2_with_random_and_least_certain\u001b[0m\u001b[K/\r\n",
      "drwxrwxr-x. 2 sac086 sac086 4096 Sep  6 10:08 \u001b[01;34mexperiment_09-05_train_v1_with_random_and_least_certain\u001b[0m/\r\n",
      "drwxrwxr-x. 2 sac086 sac086 4096 Sep  6 10:31 \u001b[01;34mexperiment_09-05_train_v2_with_random_and_least_certain\u001b[0m/\r\n",
      "drwxrwxr-x. 2 sac086 sac086 4096 Oct  5 14:30 \u001b[01;34mexperiment1_10-4-17\u001b[0m/\r\n",
      "drwxrwxr-x. 2 sac086 sac086   10 Oct  6 09:13 \u001b[01;34mexperiment1a_10-6-17\u001b[0m/\r\n",
      "drwxrwxr-x. 2 sac086 sac086   72 Oct  6 18:18 \u001b[01;34mexperiment2_10-5-17\u001b[0m/\r\n",
      "drwxrwxr-x. 2 sac086 sac086   10 Oct  6 17:09 \u001b[01;34mexperiments2_10-6-17\u001b[0m/\r\n"
     ]
    }
   ],
   "source": [
    "ls -l results"
   ]
  },
  {
   "cell_type": "code",
   "execution_count": 28,
   "metadata": {},
   "outputs": [
    {
     "data": {
      "text/html": [
       "<script>requirejs.config({paths: { 'plotly': ['https://cdn.plot.ly/plotly-latest.min']},});if(!window.Plotly) {{require(['plotly'],function(plotly) {window.Plotly=plotly;});}}</script>"
      ],
      "text/vnd.plotly.v1+html": [
       "<script>requirejs.config({paths: { 'plotly': ['https://cdn.plot.ly/plotly-latest.min']},});if(!window.Plotly) {{require(['plotly'],function(plotly) {window.Plotly=plotly;});}}</script>"
      ]
     },
     "metadata": {},
     "output_type": "display_data"
    }
   ],
   "source": [
    "from wisdm import wisdm\n",
    "import random\n",
    "import numpy as np\n",
    "import pandas as pd\n",
    "from collections import Counter\n",
    "import time\n",
    "from scipy import stats\n",
    "import os\n",
    "import json\n",
    "\n",
    "from plotly.offline import download_plotlyjs, init_notebook_mode, plot, iplot\n",
    "init_notebook_mode(connected=True)\n",
    "import plotly.graph_objs as go\n",
    "import plotly.figure_factory as ff"
   ]
  },
  {
   "cell_type": "code",
   "execution_count": 10,
   "metadata": {
    "collapsed": true
   },
   "outputs": [],
   "source": [
    "experiment1_dir = \"./results/experiment1_10-4-17/\"\n",
    "experiment1_files = [experiment1_dir+f for f in os.listdir(experiment1_dir)]\n",
    "\n",
    "results = []\n",
    "\n",
    "for f in experiment1_files:\n",
    "    results.append(pd.read_pickle(f))\n",
    "\n",
    "results_df = pd.concat(results)"
   ]
  },
  {
   "cell_type": "code",
   "execution_count": 14,
   "metadata": {
    "collapsed": true
   },
   "outputs": [],
   "source": [
    "wisdm.set_data(version=\"2\", make_compatible=True)"
   ]
  },
  {
   "cell_type": "markdown",
   "metadata": {},
   "source": [
    "# Distribution of number of classes labeled"
   ]
  },
  {
   "cell_type": "code",
   "execution_count": 24,
   "metadata": {
    "collapsed": true
   },
   "outputs": [],
   "source": [
    "# number of labels by participant\n",
    "user_num_labels = {user_id : len(wisdm.data_df[wisdm.data_df['user'] == user_id]['class'].unique()) for user_id in wisdm.user_ids}"
   ]
  },
  {
   "cell_type": "code",
   "execution_count": 25,
   "metadata": {},
   "outputs": [
    {
     "data": {
      "application/vnd.plotly.v1+json": {
       "data": [
        {
         "type": "histogram",
         "x": [
          4,
          5,
          1,
          1,
          1,
          4,
          1,
          2,
          3,
          4,
          1,
          4,
          1,
          3,
          4,
          1,
          3,
          2,
          1,
          1,
          1,
          1,
          1,
          1,
          4,
          1,
          1,
          1,
          1,
          3,
          4,
          4,
          5,
          1,
          1,
          3,
          4,
          1,
          1,
          4,
          4,
          3,
          3,
          5,
          1,
          1,
          4,
          1,
          4,
          1
         ]
        }
       ],
       "layout": {
        "xaxis": {
         "title": "Number Of Classes Labeled"
        },
        "yaxis": {
         "title": "Number Of Users"
        }
       }
      },
      "text/html": [
       "<div id=\"108080b8-210b-40cd-a04e-3183553caee1\" style=\"height: 525px; width: 100%;\" class=\"plotly-graph-div\"></div><script type=\"text/javascript\">require([\"plotly\"], function(Plotly) { window.PLOTLYENV=window.PLOTLYENV || {};window.PLOTLYENV.BASE_URL=\"https://plot.ly\";Plotly.newPlot(\"108080b8-210b-40cd-a04e-3183553caee1\", [{\"x\": [4, 5, 1, 1, 1, 4, 1, 2, 3, 4, 1, 4, 1, 3, 4, 1, 3, 2, 1, 1, 1, 1, 1, 1, 4, 1, 1, 1, 1, 3, 4, 4, 5, 1, 1, 3, 4, 1, 1, 4, 4, 3, 3, 5, 1, 1, 4, 1, 4, 1], \"type\": \"histogram\"}], {\"yaxis\": {\"title\": \"Number Of Users\"}, \"xaxis\": {\"title\": \"Number Of Classes Labeled\"}}, {\"showLink\": true, \"linkText\": \"Export to plot.ly\"})});</script>"
      ],
      "text/vnd.plotly.v1+html": [
       "<div id=\"108080b8-210b-40cd-a04e-3183553caee1\" style=\"height: 525px; width: 100%;\" class=\"plotly-graph-div\"></div><script type=\"text/javascript\">require([\"plotly\"], function(Plotly) { window.PLOTLYENV=window.PLOTLYENV || {};window.PLOTLYENV.BASE_URL=\"https://plot.ly\";Plotly.newPlot(\"108080b8-210b-40cd-a04e-3183553caee1\", [{\"x\": [4, 5, 1, 1, 1, 4, 1, 2, 3, 4, 1, 4, 1, 3, 4, 1, 3, 2, 1, 1, 1, 1, 1, 1, 4, 1, 1, 1, 1, 3, 4, 4, 5, 1, 1, 3, 4, 1, 1, 4, 4, 3, 3, 5, 1, 1, 4, 1, 4, 1], \"type\": \"histogram\"}], {\"yaxis\": {\"title\": \"Number Of Users\"}, \"xaxis\": {\"title\": \"Number Of Classes Labeled\"}}, {\"showLink\": true, \"linkText\": \"Export to plot.ly\"})});</script>"
      ]
     },
     "metadata": {},
     "output_type": "display_data"
    }
   ],
   "source": [
    "hist_data = [l for l in user_num_labels.values() if l > 0]\n",
    "group_labels = ['number of users']\n",
    "#fig = ff.create_distplot(hist_data, group_labels, show_rug=False, show_curve=False, histnorm='probability density')\n",
    "data = [go.Histogram(x=hist_data)]\n",
    "layout = go.Layout(yaxis=dict(title=\"Number Of Users\"),\n",
    "                   xaxis=dict(title=\"Number Of Classes Labeled\"))\n",
    "fig = go.Figure(data=data, layout=layout)\n",
    "iplot(fig)"
   ]
  },
  {
   "cell_type": "code",
   "execution_count": 15,
   "metadata": {
    "collapsed": true
   },
   "outputs": [],
   "source": [
    "users_to_ignore = []\n",
    "for user_id in wisdm.user_ids:\n",
    "    user_df = wisdm.remove_all_nan(wisdm.get_user_set(user_id))\n",
    "    num_features = len(user_df)\n",
    "    num_unique_labels = len(user_df['class'].unique())\n",
    "    \n",
    "    if num_features < 20:\n",
    "        users_to_ignore.append(user_id)\n",
    "    elif num_unique_labels < 2:\n",
    "        users_to_ignore.append(user_id)\n"
   ]
  },
  {
   "cell_type": "markdown",
   "metadata": {},
   "source": [
    "# Distribution of Classes in Lab Data"
   ]
  },
  {
   "cell_type": "code",
   "execution_count": 47,
   "metadata": {},
   "outputs": [],
   "source": [
    "wisdm.set_data(version=\"1\", make_compatible=True)\n",
    "clean_df1 = wisdm.remove_all_nan(wisdm.data_df)\n",
    "class_labels = [cl.decode(\"utf-8\") for cl in clean_df1['class'].unique()]\n",
    "\n",
    "class_counter1 = {key.decode(\"utf-8\") : val for key, val in Counter(clean_df1['class']).items()}\n",
    "\n",
    "wisdm.set_data(version=\"2\", make_compatible=True)\n",
    "clean_df2 = wisdm.remove_all_nan(wisdm.data_df[~wisdm.data_df['user'].isin(users_to_ignore)])\n",
    "class_counter2 = {key.decode(\"utf-8\") : val for key, val in Counter(clean_df2['class']).items()}"
   ]
  },
  {
   "cell_type": "code",
   "execution_count": 52,
   "metadata": {},
   "outputs": [
    {
     "data": {
      "application/vnd.plotly.v1+json": {
       "data": [
        {
         "name": "WISDM Lab data v1.1",
         "type": "bar",
         "x": [
          "Jogging",
          "Walking",
          "Stairs",
          "Sitting",
          "Standing"
         ],
         "y": [
          1612,
          2029,
          1094,
          134,
          75
         ]
        },
        {
         "name": "WISDM Lab data v2.0",
         "type": "bar",
         "x": [
          "Jogging",
          "Walking",
          "Stairs",
          "Sitting",
          "Standing"
         ],
         "y": [
          126,
          1626,
          231,
          748,
          824
         ]
        }
       ],
       "layout": {
        "xaxis": {
         "title": "activity"
        },
        "yaxis": {
         "title": "number of instances"
        }
       }
      },
      "text/html": [
       "<div id=\"d6f50381-9e47-4bf7-8b96-4e6c88cdf92b\" style=\"height: 525px; width: 100%;\" class=\"plotly-graph-div\"></div><script type=\"text/javascript\">require([\"plotly\"], function(Plotly) { window.PLOTLYENV=window.PLOTLYENV || {};window.PLOTLYENV.BASE_URL=\"https://plot.ly\";Plotly.newPlot(\"d6f50381-9e47-4bf7-8b96-4e6c88cdf92b\", [{\"x\": [\"Jogging\", \"Walking\", \"Stairs\", \"Sitting\", \"Standing\"], \"y\": [1612, 2029, 1094, 134, 75], \"type\": \"bar\", \"name\": \"WISDM Lab data v1.1\"}, {\"x\": [\"Jogging\", \"Walking\", \"Stairs\", \"Sitting\", \"Standing\"], \"y\": [126, 1626, 231, 748, 824], \"type\": \"bar\", \"name\": \"WISDM Lab data v2.0\"}], {\"yaxis\": {\"title\": \"number of instances\"}, \"xaxis\": {\"title\": \"activity\"}}, {\"showLink\": true, \"linkText\": \"Export to plot.ly\"})});</script>"
      ],
      "text/vnd.plotly.v1+html": [
       "<div id=\"d6f50381-9e47-4bf7-8b96-4e6c88cdf92b\" style=\"height: 525px; width: 100%;\" class=\"plotly-graph-div\"></div><script type=\"text/javascript\">require([\"plotly\"], function(Plotly) { window.PLOTLYENV=window.PLOTLYENV || {};window.PLOTLYENV.BASE_URL=\"https://plot.ly\";Plotly.newPlot(\"d6f50381-9e47-4bf7-8b96-4e6c88cdf92b\", [{\"x\": [\"Jogging\", \"Walking\", \"Stairs\", \"Sitting\", \"Standing\"], \"y\": [1612, 2029, 1094, 134, 75], \"type\": \"bar\", \"name\": \"WISDM Lab data v1.1\"}, {\"x\": [\"Jogging\", \"Walking\", \"Stairs\", \"Sitting\", \"Standing\"], \"y\": [126, 1626, 231, 748, 824], \"type\": \"bar\", \"name\": \"WISDM Lab data v2.0\"}], {\"yaxis\": {\"title\": \"number of instances\"}, \"xaxis\": {\"title\": \"activity\"}}, {\"showLink\": true, \"linkText\": \"Export to plot.ly\"})});</script>"
      ]
     },
     "metadata": {},
     "output_type": "display_data"
    }
   ],
   "source": [
    "lab_trace = go.Bar(\n",
    "    x=class_labels,\n",
    "    y=[class_counter1[cl] for cl in class_labels],\n",
    "    name=\"WISDM Lab data v1.1\"\n",
    ")\n",
    "\n",
    "field_trace = go.Bar(\n",
    "    x=class_labels,\n",
    "    y=[class_counter2[cl] for cl in class_labels],\n",
    "    name=\"WISDM Lab data v2.0\"\n",
    ")\n",
    "\n",
    "traces = [lab_trace, field_trace]\n",
    "layout = go.Layout(yaxis=dict(title=\"number of instances\"),\n",
    "                   xaxis=dict(title=\"activity\"))\n",
    "\n",
    "fig = go.Figure(data=traces,layout=layout)\n",
    "iplot(fig)"
   ]
  },
  {
   "cell_type": "code",
   "execution_count": 54,
   "metadata": {},
   "outputs": [],
   "source": [
    "wisdm.set_data(version=\"1\", make_compatible=False)"
   ]
  },
  {
   "cell_type": "code",
   "execution_count": 55,
   "metadata": {},
   "outputs": [
    {
     "data": {
      "text/plain": [
       "array([b'Jogging', b'Walking', b'Upstairs', b'Downstairs', b'Sitting',\n",
       "       b'Standing'], dtype=object)"
      ]
     },
     "execution_count": 55,
     "metadata": {},
     "output_type": "execute_result"
    }
   ],
   "source": [
    "wisdm.data_df['class'].unique()"
   ]
  },
  {
   "cell_type": "code",
   "execution_count": 56,
   "metadata": {
    "collapsed": true
   },
   "outputs": [],
   "source": [
    "wisdm.set_data(version=\"2\", make_compatible=False)"
   ]
  },
  {
   "cell_type": "code",
   "execution_count": 57,
   "metadata": {},
   "outputs": [
    {
     "data": {
      "text/plain": [
       "array([b'Standing', b'Sitting', b'Stairs', b'LyingDown', b'Walking',\n",
       "       b'Jogging'], dtype=object)"
      ]
     },
     "execution_count": 57,
     "metadata": {},
     "output_type": "execute_result"
    }
   ],
   "source": [
    "wisdm.data_df['class'].unique()"
   ]
  },
  {
   "cell_type": "code",
   "execution_count": 59,
   "metadata": {},
   "outputs": [
    {
     "data": {
      "text/plain": [
       "32"
      ]
     },
     "execution_count": 59,
     "metadata": {},
     "output_type": "execute_result"
    }
   ],
   "source": [
    "len(users_to_ignore)"
   ]
  },
  {
   "cell_type": "code",
   "execution_count": 60,
   "metadata": {},
   "outputs": [
    {
     "data": {
      "application/vnd.plotly.v1+json": {
       "data": [
        {
         "boxpoints": "all",
         "jitter": 0.3,
         "marker": {
          "color": "red"
         },
         "name": "Impersonal",
         "pointpos": -1,
         "type": "box",
         "x": [
          0,
          0,
          0,
          0,
          0,
          0,
          0,
          0,
          0,
          0,
          0,
          0,
          0,
          0,
          0,
          0,
          0,
          0,
          0,
          0,
          0,
          0
         ],
         "y": [
          0.725,
          0.5416666666666666,
          0.6583333333333333,
          0.43333333333333335,
          0.5666666666666667,
          0.03333333333333333,
          0.13333333333333333,
          0.041666666666666664,
          0.06666666666666667,
          0.7166666666666667,
          0.125,
          0.475,
          0.26666666666666666,
          0.6,
          null,
          0.15,
          0.7333333333333333,
          0.3083333333333333,
          0.6833333333333333,
          0.5333333333333333,
          0.43333333333333335,
          0.075
         ]
        },
        {
         "boxpoints": "all",
         "jitter": 0.3,
         "marker": {
          "color": "blue"
         },
         "name": "Personal",
         "pointpos": -1,
         "type": "box",
         "x": [
          5,
          5,
          5,
          5,
          5,
          5,
          5,
          5,
          5,
          5,
          5,
          5,
          5,
          5,
          5,
          5,
          5,
          5,
          5,
          5,
          5,
          5,
          10,
          10,
          10,
          10,
          10,
          10,
          10,
          10,
          10,
          10,
          10,
          10,
          10,
          10,
          10,
          10,
          10,
          10,
          10,
          10,
          10,
          10,
          15,
          15,
          15,
          15,
          15,
          15,
          15,
          15,
          15,
          15,
          15,
          15,
          15,
          15,
          15,
          15,
          15,
          15,
          15,
          15,
          15,
          15,
          20,
          20,
          20,
          20,
          20,
          20,
          20,
          20,
          20,
          20,
          20,
          20,
          20,
          20,
          20,
          20,
          20,
          20,
          20,
          20,
          20,
          20,
          8,
          8,
          8,
          8,
          8,
          8,
          8,
          8,
          8,
          8,
          8,
          8,
          8,
          8,
          8,
          8,
          8,
          8,
          8,
          8,
          8,
          8
         ],
         "y": [
          0.9166666666666666,
          0.6416666666666666,
          0.75,
          0.8666666666666667,
          1,
          0.9,
          0.9333333333333333,
          0.9333333333333333,
          0.9333333333333333,
          0.7583333333333333,
          0.7083333333333333,
          0.7833333333333332,
          0.5083333333333333,
          0.85,
          null,
          0.9500000000000001,
          0.9833333333333334,
          0.9916666666666667,
          0.7583333333333334,
          0.925,
          0.6083333333333334,
          0.9,
          0.8916666666666666,
          0.8666666666666667,
          0.9416666666666667,
          0.9166666666666666,
          0.9666666666666667,
          0.9333333333333333,
          0.975,
          1,
          0.9666666666666667,
          0.8416666666666668,
          0.8583333333333334,
          0.8833333333333334,
          0.6333333333333333,
          0.9833333333333334,
          null,
          0.9333333333333333,
          0.925,
          0.9916666666666667,
          0.8583333333333334,
          0.9249999999999999,
          0.775,
          0.9583333333333333,
          0.9333333333333333,
          0.9500000000000001,
          0.95,
          0.875,
          1,
          0.9333333333333333,
          0.9416666666666667,
          1,
          0.9666666666666667,
          0.8833333333333333,
          0.9,
          0.9416666666666667,
          0.7166666666666667,
          0.9833333333333334,
          null,
          1,
          1,
          1,
          0.8833333333333334,
          0.9916666666666667,
          0.6666666666666666,
          1,
          0.9333333333333333,
          0.9416666666666667,
          0.9,
          0.9166666666666667,
          1,
          0.9666666666666667,
          0.95,
          1,
          0.9833333333333334,
          0.95,
          0.7833333333333333,
          0.975,
          0.7333333333333334,
          1,
          null,
          1,
          1,
          1,
          0.8583333333333334,
          1,
          0.825,
          1,
          0.7916666666666667,
          0.7916666666666666,
          0.875,
          0.875,
          1,
          0.9,
          0.9333333333333333,
          1,
          0.9333333333333333,
          0.9166666666666667,
          0.8416666666666668,
          0.9166666666666667,
          0.5416666666666666,
          0.95,
          null,
          0.9916666666666667,
          0.9,
          0.9916666666666667,
          0.85,
          0.9083333333333333,
          0.7833333333333332,
          0.9083333333333333
         ]
        },
        {
         "boxpoints": "all",
         "jitter": 0.3,
         "marker": {
          "color": "green"
         },
         "name": "Hybrid",
         "pointpos": -1,
         "type": "box",
         "x": [
          5,
          5,
          5,
          5,
          5,
          5,
          5,
          5,
          5,
          5,
          5,
          5,
          5,
          5,
          5,
          5,
          5,
          5,
          5,
          5,
          5,
          5,
          10,
          10,
          10,
          10,
          10,
          10,
          10,
          10,
          10,
          10,
          10,
          10,
          10,
          10,
          10,
          10,
          10,
          10,
          10,
          10,
          10,
          10,
          15,
          15,
          15,
          15,
          15,
          15,
          15,
          15,
          15,
          15,
          15,
          15,
          15,
          15,
          15,
          15,
          15,
          15,
          15,
          15,
          15,
          15,
          20,
          20,
          20,
          20,
          20,
          20,
          20,
          20,
          20,
          20,
          20,
          20,
          20,
          20,
          20,
          20,
          20,
          20,
          20,
          20,
          20,
          20,
          8,
          8,
          8,
          8,
          8,
          8,
          8,
          8,
          8,
          8,
          8,
          8,
          8,
          8,
          8,
          8,
          8,
          8,
          8,
          8,
          8,
          8
         ],
         "y": [
          0.8666666666666666,
          0.7166666666666667,
          0.7333333333333333,
          0.8583333333333334,
          1,
          0.9,
          0.9333333333333333,
          0.9333333333333333,
          0.9333333333333333,
          0.8,
          0.725,
          0.7583333333333333,
          0.5,
          0.8833333333333333,
          null,
          0.9500000000000001,
          0.925,
          1,
          0.8083333333333333,
          0.925,
          0.6166666666666667,
          0.925,
          0.8916666666666667,
          0.9083333333333334,
          0.9333333333333333,
          0.8916666666666667,
          0.9666666666666667,
          0.9333333333333333,
          0.9833333333333334,
          1,
          0.9666666666666667,
          0.825,
          0.8583333333333334,
          0.925,
          0.6166666666666666,
          1,
          null,
          1,
          0.925,
          1,
          0.8916666666666667,
          0.95,
          0.8333333333333334,
          0.9416666666666667,
          0.9416666666666667,
          0.975,
          0.9416666666666667,
          0.8833333333333334,
          1,
          0.9333333333333333,
          0.9416666666666667,
          1,
          0.9666666666666667,
          0.9750000000000001,
          0.8833333333333333,
          0.9000000000000001,
          0.6749999999999999,
          0.9833333333333334,
          null,
          1,
          1,
          1,
          0.8833333333333333,
          0.9833333333333334,
          0.7250000000000001,
          0.9916666666666667,
          0.925,
          0.9333333333333332,
          0.8666666666666667,
          0.9083333333333334,
          1,
          0.9666666666666667,
          0.95,
          1,
          1,
          0.9333333333333333,
          0.775,
          0.9833333333333334,
          0.7333333333333334,
          0.9916666666666667,
          null,
          1,
          1,
          1,
          0.8583333333333333,
          1,
          0.8333333333333334,
          0.9916666666666667,
          0.8999999999999999,
          0.8416666666666667,
          0.825,
          0.875,
          1,
          0.9,
          0.9333333333333333,
          1,
          0.9333333333333333,
          0.8833333333333334,
          0.8333333333333334,
          0.925,
          0.525,
          0.925,
          null,
          0.9916666666666667,
          0.9916666666666667,
          1,
          0.9,
          0.95,
          0.7666666666666666,
          0.9166666666666666
         ]
        }
       ],
       "layout": {
        "boxmode": "group",
        "xaxis": {
         "title": "number of personal training samples"
        },
        "yaxis": {
         "title": "accuracy"
        }
       }
      },
      "text/html": [
       "<div id=\"3e3e3c7f-5549-4974-b0f5-c86a9e3c289e\" style=\"height: 525px; width: 100%;\" class=\"plotly-graph-div\"></div><script type=\"text/javascript\">require([\"plotly\"], function(Plotly) { window.PLOTLYENV=window.PLOTLYENV || {};window.PLOTLYENV.BASE_URL=\"https://plot.ly\";Plotly.newPlot(\"3e3e3c7f-5549-4974-b0f5-c86a9e3c289e\", [{\"jitter\": 0.3, \"x\": [0, 0, 0, 0, 0, 0, 0, 0, 0, 0, 0, 0, 0, 0, 0, 0, 0, 0, 0, 0, 0, 0], \"y\": [0.725, 0.5416666666666666, 0.6583333333333333, 0.43333333333333335, 0.5666666666666667, 0.03333333333333333, 0.13333333333333333, 0.041666666666666664, 0.06666666666666667, 0.7166666666666667, 0.125, 0.475, 0.26666666666666666, 0.6, null, 0.15, 0.7333333333333333, 0.3083333333333333, 0.6833333333333333, 0.5333333333333333, 0.43333333333333335, 0.075], \"marker\": {\"color\": \"red\"}, \"boxpoints\": \"all\", \"type\": \"box\", \"pointpos\": -1, \"name\": \"Impersonal\"}, {\"jitter\": 0.3, \"x\": [5, 5, 5, 5, 5, 5, 5, 5, 5, 5, 5, 5, 5, 5, 5, 5, 5, 5, 5, 5, 5, 5, 10, 10, 10, 10, 10, 10, 10, 10, 10, 10, 10, 10, 10, 10, 10, 10, 10, 10, 10, 10, 10, 10, 15, 15, 15, 15, 15, 15, 15, 15, 15, 15, 15, 15, 15, 15, 15, 15, 15, 15, 15, 15, 15, 15, 20, 20, 20, 20, 20, 20, 20, 20, 20, 20, 20, 20, 20, 20, 20, 20, 20, 20, 20, 20, 20, 20, 8, 8, 8, 8, 8, 8, 8, 8, 8, 8, 8, 8, 8, 8, 8, 8, 8, 8, 8, 8, 8, 8], \"y\": [0.9166666666666666, 0.6416666666666666, 0.75, 0.8666666666666667, 1.0, 0.9, 0.9333333333333333, 0.9333333333333333, 0.9333333333333333, 0.7583333333333333, 0.7083333333333333, 0.7833333333333332, 0.5083333333333333, 0.85, null, 0.9500000000000001, 0.9833333333333334, 0.9916666666666667, 0.7583333333333334, 0.925, 0.6083333333333334, 0.9, 0.8916666666666666, 0.8666666666666667, 0.9416666666666667, 0.9166666666666666, 0.9666666666666667, 0.9333333333333333, 0.975, 1.0, 0.9666666666666667, 0.8416666666666668, 0.8583333333333334, 0.8833333333333334, 0.6333333333333333, 0.9833333333333334, null, 0.9333333333333333, 0.925, 0.9916666666666667, 0.8583333333333334, 0.9249999999999999, 0.775, 0.9583333333333333, 0.9333333333333333, 0.9500000000000001, 0.95, 0.875, 1.0, 0.9333333333333333, 0.9416666666666667, 1.0, 0.9666666666666667, 0.8833333333333333, 0.9, 0.9416666666666667, 0.7166666666666667, 0.9833333333333334, null, 1.0, 1.0, 1.0, 0.8833333333333334, 0.9916666666666667, 0.6666666666666666, 1.0, 0.9333333333333333, 0.9416666666666667, 0.9, 0.9166666666666667, 1.0, 0.9666666666666667, 0.95, 1.0, 0.9833333333333334, 0.95, 0.7833333333333333, 0.975, 0.7333333333333334, 1.0, null, 1.0, 1.0, 1.0, 0.8583333333333334, 1.0, 0.825, 1.0, 0.7916666666666667, 0.7916666666666666, 0.875, 0.875, 1.0, 0.9, 0.9333333333333333, 1.0, 0.9333333333333333, 0.9166666666666667, 0.8416666666666668, 0.9166666666666667, 0.5416666666666666, 0.95, null, 0.9916666666666667, 0.9, 0.9916666666666667, 0.85, 0.9083333333333333, 0.7833333333333332, 0.9083333333333333], \"marker\": {\"color\": \"blue\"}, \"boxpoints\": \"all\", \"type\": \"box\", \"pointpos\": -1, \"name\": \"Personal\"}, {\"jitter\": 0.3, \"x\": [5, 5, 5, 5, 5, 5, 5, 5, 5, 5, 5, 5, 5, 5, 5, 5, 5, 5, 5, 5, 5, 5, 10, 10, 10, 10, 10, 10, 10, 10, 10, 10, 10, 10, 10, 10, 10, 10, 10, 10, 10, 10, 10, 10, 15, 15, 15, 15, 15, 15, 15, 15, 15, 15, 15, 15, 15, 15, 15, 15, 15, 15, 15, 15, 15, 15, 20, 20, 20, 20, 20, 20, 20, 20, 20, 20, 20, 20, 20, 20, 20, 20, 20, 20, 20, 20, 20, 20, 8, 8, 8, 8, 8, 8, 8, 8, 8, 8, 8, 8, 8, 8, 8, 8, 8, 8, 8, 8, 8, 8], \"y\": [0.8666666666666666, 0.7166666666666667, 0.7333333333333333, 0.8583333333333334, 1.0, 0.9, 0.9333333333333333, 0.9333333333333333, 0.9333333333333333, 0.8, 0.725, 0.7583333333333333, 0.5, 0.8833333333333333, null, 0.9500000000000001, 0.925, 1.0, 0.8083333333333333, 0.925, 0.6166666666666667, 0.925, 0.8916666666666667, 0.9083333333333334, 0.9333333333333333, 0.8916666666666667, 0.9666666666666667, 0.9333333333333333, 0.9833333333333334, 1.0, 0.9666666666666667, 0.825, 0.8583333333333334, 0.925, 0.6166666666666666, 1.0, null, 1.0, 0.925, 1.0, 0.8916666666666667, 0.95, 0.8333333333333334, 0.9416666666666667, 0.9416666666666667, 0.975, 0.9416666666666667, 0.8833333333333334, 1.0, 0.9333333333333333, 0.9416666666666667, 1.0, 0.9666666666666667, 0.9750000000000001, 0.8833333333333333, 0.9000000000000001, 0.6749999999999999, 0.9833333333333334, null, 1.0, 1.0, 1.0, 0.8833333333333333, 0.9833333333333334, 0.7250000000000001, 0.9916666666666667, 0.925, 0.9333333333333332, 0.8666666666666667, 0.9083333333333334, 1.0, 0.9666666666666667, 0.95, 1.0, 1.0, 0.9333333333333333, 0.775, 0.9833333333333334, 0.7333333333333334, 0.9916666666666667, null, 1.0, 1.0, 1.0, 0.8583333333333333, 1.0, 0.8333333333333334, 0.9916666666666667, 0.8999999999999999, 0.8416666666666667, 0.825, 0.875, 1.0, 0.9, 0.9333333333333333, 1.0, 0.9333333333333333, 0.8833333333333334, 0.8333333333333334, 0.925, 0.525, 0.925, null, 0.9916666666666667, 0.9916666666666667, 1.0, 0.9, 0.95, 0.7666666666666666, 0.9166666666666666], \"marker\": {\"color\": \"green\"}, \"boxpoints\": \"all\", \"type\": \"box\", \"pointpos\": -1, \"name\": \"Hybrid\"}], {\"boxmode\": \"group\", \"yaxis\": {\"title\": \"accuracy\"}, \"xaxis\": {\"title\": \"number of personal training samples\"}}, {\"showLink\": true, \"linkText\": \"Export to plot.ly\"})});</script>"
      ],
      "text/vnd.plotly.v1+html": [
       "<div id=\"3e3e3c7f-5549-4974-b0f5-c86a9e3c289e\" style=\"height: 525px; width: 100%;\" class=\"plotly-graph-div\"></div><script type=\"text/javascript\">require([\"plotly\"], function(Plotly) { window.PLOTLYENV=window.PLOTLYENV || {};window.PLOTLYENV.BASE_URL=\"https://plot.ly\";Plotly.newPlot(\"3e3e3c7f-5549-4974-b0f5-c86a9e3c289e\", [{\"jitter\": 0.3, \"x\": [0, 0, 0, 0, 0, 0, 0, 0, 0, 0, 0, 0, 0, 0, 0, 0, 0, 0, 0, 0, 0, 0], \"y\": [0.725, 0.5416666666666666, 0.6583333333333333, 0.43333333333333335, 0.5666666666666667, 0.03333333333333333, 0.13333333333333333, 0.041666666666666664, 0.06666666666666667, 0.7166666666666667, 0.125, 0.475, 0.26666666666666666, 0.6, null, 0.15, 0.7333333333333333, 0.3083333333333333, 0.6833333333333333, 0.5333333333333333, 0.43333333333333335, 0.075], \"marker\": {\"color\": \"red\"}, \"boxpoints\": \"all\", \"type\": \"box\", \"pointpos\": -1, \"name\": \"Impersonal\"}, {\"jitter\": 0.3, \"x\": [5, 5, 5, 5, 5, 5, 5, 5, 5, 5, 5, 5, 5, 5, 5, 5, 5, 5, 5, 5, 5, 5, 10, 10, 10, 10, 10, 10, 10, 10, 10, 10, 10, 10, 10, 10, 10, 10, 10, 10, 10, 10, 10, 10, 15, 15, 15, 15, 15, 15, 15, 15, 15, 15, 15, 15, 15, 15, 15, 15, 15, 15, 15, 15, 15, 15, 20, 20, 20, 20, 20, 20, 20, 20, 20, 20, 20, 20, 20, 20, 20, 20, 20, 20, 20, 20, 20, 20, 8, 8, 8, 8, 8, 8, 8, 8, 8, 8, 8, 8, 8, 8, 8, 8, 8, 8, 8, 8, 8, 8], \"y\": [0.9166666666666666, 0.6416666666666666, 0.75, 0.8666666666666667, 1.0, 0.9, 0.9333333333333333, 0.9333333333333333, 0.9333333333333333, 0.7583333333333333, 0.7083333333333333, 0.7833333333333332, 0.5083333333333333, 0.85, null, 0.9500000000000001, 0.9833333333333334, 0.9916666666666667, 0.7583333333333334, 0.925, 0.6083333333333334, 0.9, 0.8916666666666666, 0.8666666666666667, 0.9416666666666667, 0.9166666666666666, 0.9666666666666667, 0.9333333333333333, 0.975, 1.0, 0.9666666666666667, 0.8416666666666668, 0.8583333333333334, 0.8833333333333334, 0.6333333333333333, 0.9833333333333334, null, 0.9333333333333333, 0.925, 0.9916666666666667, 0.8583333333333334, 0.9249999999999999, 0.775, 0.9583333333333333, 0.9333333333333333, 0.9500000000000001, 0.95, 0.875, 1.0, 0.9333333333333333, 0.9416666666666667, 1.0, 0.9666666666666667, 0.8833333333333333, 0.9, 0.9416666666666667, 0.7166666666666667, 0.9833333333333334, null, 1.0, 1.0, 1.0, 0.8833333333333334, 0.9916666666666667, 0.6666666666666666, 1.0, 0.9333333333333333, 0.9416666666666667, 0.9, 0.9166666666666667, 1.0, 0.9666666666666667, 0.95, 1.0, 0.9833333333333334, 0.95, 0.7833333333333333, 0.975, 0.7333333333333334, 1.0, null, 1.0, 1.0, 1.0, 0.8583333333333334, 1.0, 0.825, 1.0, 0.7916666666666667, 0.7916666666666666, 0.875, 0.875, 1.0, 0.9, 0.9333333333333333, 1.0, 0.9333333333333333, 0.9166666666666667, 0.8416666666666668, 0.9166666666666667, 0.5416666666666666, 0.95, null, 0.9916666666666667, 0.9, 0.9916666666666667, 0.85, 0.9083333333333333, 0.7833333333333332, 0.9083333333333333], \"marker\": {\"color\": \"blue\"}, \"boxpoints\": \"all\", \"type\": \"box\", \"pointpos\": -1, \"name\": \"Personal\"}, {\"jitter\": 0.3, \"x\": [5, 5, 5, 5, 5, 5, 5, 5, 5, 5, 5, 5, 5, 5, 5, 5, 5, 5, 5, 5, 5, 5, 10, 10, 10, 10, 10, 10, 10, 10, 10, 10, 10, 10, 10, 10, 10, 10, 10, 10, 10, 10, 10, 10, 15, 15, 15, 15, 15, 15, 15, 15, 15, 15, 15, 15, 15, 15, 15, 15, 15, 15, 15, 15, 15, 15, 20, 20, 20, 20, 20, 20, 20, 20, 20, 20, 20, 20, 20, 20, 20, 20, 20, 20, 20, 20, 20, 20, 8, 8, 8, 8, 8, 8, 8, 8, 8, 8, 8, 8, 8, 8, 8, 8, 8, 8, 8, 8, 8, 8], \"y\": [0.8666666666666666, 0.7166666666666667, 0.7333333333333333, 0.8583333333333334, 1.0, 0.9, 0.9333333333333333, 0.9333333333333333, 0.9333333333333333, 0.8, 0.725, 0.7583333333333333, 0.5, 0.8833333333333333, null, 0.9500000000000001, 0.925, 1.0, 0.8083333333333333, 0.925, 0.6166666666666667, 0.925, 0.8916666666666667, 0.9083333333333334, 0.9333333333333333, 0.8916666666666667, 0.9666666666666667, 0.9333333333333333, 0.9833333333333334, 1.0, 0.9666666666666667, 0.825, 0.8583333333333334, 0.925, 0.6166666666666666, 1.0, null, 1.0, 0.925, 1.0, 0.8916666666666667, 0.95, 0.8333333333333334, 0.9416666666666667, 0.9416666666666667, 0.975, 0.9416666666666667, 0.8833333333333334, 1.0, 0.9333333333333333, 0.9416666666666667, 1.0, 0.9666666666666667, 0.9750000000000001, 0.8833333333333333, 0.9000000000000001, 0.6749999999999999, 0.9833333333333334, null, 1.0, 1.0, 1.0, 0.8833333333333333, 0.9833333333333334, 0.7250000000000001, 0.9916666666666667, 0.925, 0.9333333333333332, 0.8666666666666667, 0.9083333333333334, 1.0, 0.9666666666666667, 0.95, 1.0, 1.0, 0.9333333333333333, 0.775, 0.9833333333333334, 0.7333333333333334, 0.9916666666666667, null, 1.0, 1.0, 1.0, 0.8583333333333333, 1.0, 0.8333333333333334, 0.9916666666666667, 0.8999999999999999, 0.8416666666666667, 0.825, 0.875, 1.0, 0.9, 0.9333333333333333, 1.0, 0.9333333333333333, 0.8833333333333334, 0.8333333333333334, 0.925, 0.525, 0.925, null, 0.9916666666666667, 0.9916666666666667, 1.0, 0.9, 0.95, 0.7666666666666666, 0.9166666666666666], \"marker\": {\"color\": \"green\"}, \"boxpoints\": \"all\", \"type\": \"box\", \"pointpos\": -1, \"name\": \"Hybrid\"}], {\"boxmode\": \"group\", \"yaxis\": {\"title\": \"accuracy\"}, \"xaxis\": {\"title\": \"number of personal training samples\"}}, {\"showLink\": true, \"linkText\": \"Export to plot.ly\"})});</script>"
      ]
     },
     "metadata": {},
     "output_type": "display_data"
    }
   ],
   "source": [
    "impersonal_means = []\n",
    "personal_means = []\n",
    "hybrid_means = []\n",
    "\n",
    "training_sizes = results_df['training size'].unique()\n",
    "\n",
    "for training_size in training_sizes:\n",
    "    for user_id in wisdm.user_ids:\n",
    "        if user_id in users_to_ignore:\n",
    "            continue\n",
    "        user_df = results_df[(results_df['user_id'] == user_id) & \\\n",
    "                             (results_df['training size'] == training_size)]\n",
    "        if training_size == 8:\n",
    "            impersonal_means.append((0, user_df['impersonal'].mean()))\n",
    "        personal_means.append((training_size, user_df['personal'].mean()))\n",
    "        hybrid_means.append((training_size, user_df['hybrid'].mean()))\n",
    "        \n",
    "impersonal_x, impersonal_y = zip(*impersonal_means)\n",
    "impersonal_trace = go.Box(y=impersonal_y,\n",
    "                          x=impersonal_x,\n",
    "                          name=\"Impersonal\",\n",
    "                          marker=dict(color=\"red\"),\n",
    "                          boxpoints='all',\n",
    "                          jitter=0.3,\n",
    "                          pointpos=-1)\n",
    "\n",
    "personal_x, personal_y = zip(*personal_means)\n",
    "personal_trace = go.Box(y=personal_y,\n",
    "                          x=personal_x,\n",
    "                          name=\"Personal\",\n",
    "                          marker=dict(color=\"blue\"),\n",
    "                          boxpoints='all',\n",
    "                          jitter=0.3,\n",
    "                          pointpos=-1)\n",
    "\n",
    "hybrid_x, hybrid_y = zip(*hybrid_means)\n",
    "hybrid_trace = go.Box(y=hybrid_y,\n",
    "                          x=hybrid_x,\n",
    "                          name=\"Hybrid\",\n",
    "                          marker=dict(color=\"green\"),\n",
    "                          boxpoints='all',\n",
    "                          jitter=0.3,\n",
    "                          pointpos=-1)\n",
    "\n",
    "layout=go.Layout(boxmode=\"group\", xaxis=dict(title=\"number of personal training samples\"), yaxis=dict(title=\"accuracy\"))\n",
    "\n",
    "data = [impersonal_trace, personal_trace, hybrid_trace]\n",
    "\n",
    "fig = go.Figure(data=data, layout=layout)\n",
    "\n",
    "iplot(fig)"
   ]
  },
  {
   "cell_type": "code",
   "execution_count": null,
   "metadata": {
    "collapsed": true
   },
   "outputs": [],
   "source": []
  },
  {
   "cell_type": "code",
   "execution_count": null,
   "metadata": {
    "collapsed": true
   },
   "outputs": [],
   "source": []
  },
  {
   "cell_type": "code",
   "execution_count": null,
   "metadata": {
    "collapsed": true
   },
   "outputs": [],
   "source": []
  },
  {
   "cell_type": "code",
   "execution_count": null,
   "metadata": {
    "collapsed": true
   },
   "outputs": [],
   "source": []
  },
  {
   "cell_type": "code",
   "execution_count": null,
   "metadata": {
    "collapsed": true
   },
   "outputs": [],
   "source": []
  }
 ],
 "metadata": {
  "kernelspec": {
   "display_name": "Python 3",
   "language": "python",
   "name": "python3"
  },
  "language_info": {
   "codemirror_mode": {
    "name": "ipython",
    "version": 3
   },
   "file_extension": ".py",
   "mimetype": "text/x-python",
   "name": "python",
   "nbconvert_exporter": "python",
   "pygments_lexer": "ipython3",
   "version": "3.4.5"
  }
 },
 "nbformat": 4,
 "nbformat_minor": 2
}
