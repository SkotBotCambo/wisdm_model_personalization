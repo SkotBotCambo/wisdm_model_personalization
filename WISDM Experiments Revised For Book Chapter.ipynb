{
 "cells": [
  {
   "cell_type": "markdown",
   "metadata": {},
   "source": [
    "# Initializing the environment and clusters"
   ]
  },
  {
   "cell_type": "code",
   "execution_count": 1,
   "metadata": {
    "collapsed": true
   },
   "outputs": [],
   "source": [
    "import ipyparallel as ipp\n",
    "c = ipp.Client()\n",
    "dview = c[:]"
   ]
  },
  {
   "cell_type": "code",
   "execution_count": null,
   "metadata": {},
   "outputs": [],
   "source": [
    "%%px --local\n",
    "import sys\n",
    "sys.path.append(\"/home/sac086/wisdm_model_personalization/\")\n",
    "import warnings\n",
    "import os\n",
    "from wisdm import wisdm\n",
    "import numpy as np\n",
    "import pandas as pd\n",
    "\n",
    "from sklearn.metrics import accuracy_score\n",
    "from sklearn.preprocessing import StandardScaler\n",
    "from sklearn.model_selection import KFold, StratifiedKFold, StratifiedShuffleSplit, ShuffleSplit\n",
    "from sklearn.cluster import KMeans\n",
    "from scipy.stats import mode\n",
    "from collections import Counter\n",
    "import time"
   ]
  },
  {
   "cell_type": "code",
   "execution_count": null,
   "metadata": {
    "scrolled": false
   },
   "outputs": [],
   "source": [
    "%%px --local\n",
    "from imp import reload\n",
    "reload(wisdm)"
   ]
  },
  {
   "cell_type": "markdown",
   "metadata": {},
   "source": [
    "# Experiment #1"
   ]
  },
  {
   "cell_type": "code",
   "execution_count": null,
   "metadata": {
    "collapsed": true
   },
   "outputs": [],
   "source": [
    "description = '''\n",
    "Training set = WISDM v1.1\n",
    "Test Set = WISDM v1.1\n",
    "validation = leave-one user out, class label stratified 10-fold cross-validation within user where the training folds\n",
    "are used as the pool from which we can actively sample\n",
    "Sampling Methods = Least-Certain Sampling, Random Sampling\n",
    "Modeling Methods = Impersonal, Sampled Personal, Sampled Personal data + All Impersonal Data, \n",
    "                    Sampled Personal Data + nearest cluster of Impersonal data,\n",
    "                    Sampled Personal Data + Impersonal Data selected and weighted with Garcia-Ceja approach\n",
    "'''"
   ]
  },
  {
   "cell_type": "code",
   "execution_count": null,
   "metadata": {
    "collapsed": true
   },
   "outputs": [],
   "source": [
    "%%px --local\n",
    "experiment_name = \"experiment_09-01_train_v1_with_random_and_least_certain/\"\n",
    "experiment_output_path = \"/home/sac086/wisdm_model_personalization/results/\" + experiment_name"
   ]
  },
  {
   "cell_type": "code",
   "execution_count": null,
   "metadata": {
    "collapsed": true
   },
   "outputs": [],
   "source": [
    "if not os.path.exists(experiment_output_path):\n",
    "    os.makedirs(experiment_output_path)\n",
    "with open(experiment_output_path + \"README.md\", \"w\") as fOut:\n",
    "    fOut.write(description)"
   ]
  },
  {
   "cell_type": "code",
   "execution_count": null,
   "metadata": {
    "collapsed": true
   },
   "outputs": [],
   "source": [
    "wisdm.set_data(version=\"1\")"
   ]
  },
  {
   "cell_type": "code",
   "execution_count": null,
   "metadata": {
    "collapsed": true
   },
   "outputs": [],
   "source": [
    "command = \"\"\"wisdm.pipeline1('1', '%s', user_ids)\"\"\" % experiment_output_path"
   ]
  },
  {
   "cell_type": "code",
   "execution_count": null,
   "metadata": {
    "collapsed": true
   },
   "outputs": [],
   "source": [
    "# divide the user ids up among the different cores\n",
    "scatter_result = dview.scatter(\"user_ids\", wisdm.user_ids)\n",
    "\n",
    "start = time.time()\n",
    "dview.block = True\n",
    "results = dview.execute(command)\n",
    "finish = time.time()\n",
    "print(\"Finished all models in %s minutes\" % ((finish - start) / 60.))"
   ]
  },
  {
   "cell_type": "code",
   "execution_count": null,
   "metadata": {
    "collapsed": true
   },
   "outputs": [],
   "source": [
    "user_ids = [wisdm.user_ids[0]]"
   ]
  },
  {
   "cell_type": "code",
   "execution_count": null,
   "metadata": {
    "scrolled": true
   },
   "outputs": [],
   "source": [
    "wisdm.pipeline1('1', experiment_output_path, user_ids)"
   ]
  },
  {
   "cell_type": "markdown",
   "metadata": {},
   "source": [
    "# Experiment #1"
   ]
  },
  {
   "cell_type": "code",
   "execution_count": null,
   "metadata": {
    "collapsed": true
   },
   "outputs": [],
   "source": [
    "%%px --local\n",
    "experiment_name = \"experiment_09-01_train_v1_random/\"\n",
    "\n",
    "description = '''\n",
    "Training and calibrating probability estimations on the WISDM v1.1 dataset. \n",
    "Probability estimation was done with stream sampling where those samples whose most probable class label\n",
    "was did not exceed some threshold (where the threshold is some amount greater than the uniform probability for the class) were\n",
    "actively labeled.  Testing on WISDM v1.1 with one participant held out'''\n",
    "\n",
    "experiment_output_path = \"/home/sac086/wisdm_model_personalization/results/\" + experiment_name"
   ]
  },
  {
   "cell_type": "code",
   "execution_count": null,
   "metadata": {
    "collapsed": true
   },
   "outputs": [],
   "source": [
    "if not os.path.exists(experiment_output_path):\n",
    "    os.makedirs(experiment_output_path)\n",
    "with open(experiment_output_path + \"README.md\", \"w\") as fOut:\n",
    "    fOut.write(description)"
   ]
  },
  {
   "cell_type": "code",
   "execution_count": null,
   "metadata": {
    "collapsed": true
   },
   "outputs": [],
   "source": [
    "command = \"\"\"wisdm.pipeline1('1', '%s', user_ids)\"\"\" % experiment_output_path"
   ]
  },
  {
   "cell_type": "code",
   "execution_count": null,
   "metadata": {
    "collapsed": true
   },
   "outputs": [],
   "source": [
    "wisdm.set_data(version=\"1\")"
   ]
  },
  {
   "cell_type": "code",
   "execution_count": null,
   "metadata": {},
   "outputs": [],
   "source": [
    "# divide the user ids up among the different cores\n",
    "scatter_result = dview.scatter(\"user_ids\", wisdm.user_ids)\n",
    "\n",
    "start = time.time()\n",
    "dview.block = True\n",
    "results = dview.execute(command)\n",
    "finish = time.time()\n",
    "print(\"Finished all models in %s minutes\" % ((finish - start) / 60.))"
   ]
  },
  {
   "cell_type": "markdown",
   "metadata": {},
   "source": [
    "### Experiment #1 Results\n"
   ]
  },
  {
   "cell_type": "code",
   "execution_count": null,
   "metadata": {},
   "outputs": [],
   "source": [
    "results_df = viz.get_results_dataframe(experiment_output_path)"
   ]
  },
  {
   "cell_type": "code",
   "execution_count": null,
   "metadata": {},
   "outputs": [],
   "source": [
    "viz.set_data(version=\"1\")\n",
    "fig = viz.accuracy_means_by_training_size()\n",
    "iplot(fig)"
   ]
  },
  {
   "cell_type": "code",
   "execution_count": null,
   "metadata": {},
   "outputs": [],
   "source": [
    "fig = viz.plotUserBests()\n",
    "fig.layout['title'] = \"# of users whose best performance came from a particular approach\"\n",
    "iplot(fig)"
   ]
  },
  {
   "cell_type": "markdown",
   "metadata": {},
   "source": [
    "# Experiment 2"
   ]
  },
  {
   "cell_type": "code",
   "execution_count": null,
   "metadata": {
    "collapsed": true
   },
   "outputs": [],
   "source": [
    "description = '''\n",
    "Training set = WISDM v2.0\n",
    "Test Set = WISDM v2.0\n",
    "validation = leave-one user out, class label stratified 10-fold cross-validation within user where the training folds\n",
    "are used as the pool from which we can actively sample\n",
    "Sampling Methods = Least-Certain Sampling, Random Sampling\n",
    "Modeling Methods = Impersonal, Sampled Personal, Sampled Personal data + All Impersonal Data, \n",
    "                    Sampled Personal Data + nearest cluster of Impersonal data,\n",
    "                    Sampled Personal Data + Impersonal Data selected and weighted with Garcia-Ceja approach\n",
    "'''"
   ]
  },
  {
   "cell_type": "code",
   "execution_count": null,
   "metadata": {
    "collapsed": true
   },
   "outputs": [],
   "source": [
    "if not os.path.exists(experiment_output_path):\n",
    "    os.makedirs(experiment_output_path)\n",
    "with open(experiment_output_path + \"README.md\", \"w\") as fOut:\n",
    "    fOut.write(description)"
   ]
  },
  {
   "cell_type": "code",
   "execution_count": null,
   "metadata": {
    "collapsed": true
   },
   "outputs": [],
   "source": [
    "command = \"\"\"wisdm.pipeline1('2', '%s', user_ids)\"\"\" % experiment_output_path"
   ]
  },
  {
   "cell_type": "code",
   "execution_count": null,
   "metadata": {
    "collapsed": true
   },
   "outputs": [],
   "source": [
    "wisdm.set_data(version=\"2\")"
   ]
  },
  {
   "cell_type": "code",
   "execution_count": null,
   "metadata": {
    "collapsed": true
   },
   "outputs": [],
   "source": [
    "# divide the user ids up among the different cores\n",
    "scatter_result = dview.scatter(\"user_ids\", wisdm.user_ids)\n",
    "\n",
    "start = time.time()\n",
    "dview.block = True\n",
    "results = dview.execute(command)\n",
    "finish = time.time()\n",
    "print(\"Finished all models in %s minutes\" % ((finish - start) / 60.))"
   ]
  },
  {
   "cell_type": "code",
   "execution_count": null,
   "metadata": {
    "collapsed": true
   },
   "outputs": [],
   "source": [
    "%%px --local\n",
    "experiment_name = \"experiment_09-01_train_v2_random/\"\n",
    "\n",
    "description = '''\n",
    "Training and calibrating probability estimations on the WISDM v2.0 dataset. \n",
    "Probability estimation was done with stream sampling where those samples whose most probable class label\n",
    "was did not exceed some threshold (where the threshold is some amount greater than the uniform probability for the class) were\n",
    "actively labeled.  Testing on WISDM v2.0 with one participant held out'''\n",
    "\n",
    "experiment_output_path = \"/home/sac086/wisdm_model_personalization/results/\" + experiment_name"
   ]
  },
  {
   "cell_type": "code",
   "execution_count": null,
   "metadata": {
    "collapsed": true
   },
   "outputs": [],
   "source": [
    "if not os.path.exists(experiment_output_path):\n",
    "    os.makedirs(experiment_output_path)\n",
    "with open(experiment_output_path + \"README.md\", \"w\") as fOut:\n",
    "    fOut.write(description)"
   ]
  },
  {
   "cell_type": "code",
   "execution_count": null,
   "metadata": {
    "collapsed": true
   },
   "outputs": [],
   "source": [
    "command = \"\"\"wisdm.pipeline1('2', '%s', user_ids)\"\"\" % experiment_output_path"
   ]
  },
  {
   "cell_type": "code",
   "execution_count": null,
   "metadata": {
    "collapsed": true
   },
   "outputs": [],
   "source": [
    "wisdm.set_data(version=\"2\")"
   ]
  },
  {
   "cell_type": "code",
   "execution_count": null,
   "metadata": {},
   "outputs": [],
   "source": [
    "# divide the user ids up among the different cores\n",
    "scatter_result = dview.scatter(\"user_ids\", wisdm.user_ids)\n",
    "\n",
    "start = time.time()\n",
    "dview.block = True\n",
    "results = dview.execute(command)\n",
    "finish = time.time()\n",
    "print(\"Finished all models in %s minutes\" % ((finish - start) / 60.))"
   ]
  },
  {
   "cell_type": "markdown",
   "metadata": {},
   "source": [
    "### Experiment #2 Results"
   ]
  },
  {
   "cell_type": "code",
   "execution_count": null,
   "metadata": {},
   "outputs": [],
   "source": [
    "results_df = viz.get_results_dataframe(experiment_output_path)"
   ]
  },
  {
   "cell_type": "code",
   "execution_count": null,
   "metadata": {},
   "outputs": [],
   "source": [
    "viz.set_data(version=\"2\")\n",
    "fig = viz.accuracy_means_by_training_size()\n",
    "iplot(fig)"
   ]
  },
  {
   "cell_type": "code",
   "execution_count": null,
   "metadata": {},
   "outputs": [],
   "source": [
    "fig = viz.plotUserBests()\n",
    "fig.layout['title'] = \"# of users whose best performance came from a particular approach\"\n",
    "iplot(fig)"
   ]
  },
  {
   "cell_type": "markdown",
   "metadata": {},
   "source": [
    "# Experiment #3\n",
    "In this experiment we compare differing amounts of personal data selected at random to combine with the impersonal \n",
    "training set as well as a cluster of the impersonal training set"
   ]
  },
  {
   "cell_type": "code",
   "execution_count": null,
   "metadata": {
    "collapsed": true
   },
   "outputs": [],
   "source": [
    "description = '''\n",
    "Training set = WISDM v1.1\n",
    "Test Set = WISDM v2.0\n",
    "validation = leave-one user out, class label stratified 10-fold cross-validation within user where the training folds\n",
    "are used as the pool from which we can actively sample\n",
    "Sampling Methods = Least-Certain Sampling, Random Sampling\n",
    "Modeling Methods = Impersonal, Sampled Personal, Sampled Personal data + All Impersonal Data, \n",
    "                    Sampled Personal Data + nearest cluster of Impersonal data,\n",
    "                    Sampled Personal Data + Impersonal Data selected and weighted with Garcia-Ceja approach\n",
    "'''"
   ]
  },
  {
   "cell_type": "code",
   "execution_count": null,
   "metadata": {
    "collapsed": true
   },
   "outputs": [],
   "source": [
    "%%px --local\n",
    "experiment_name = \"experiment_08-31_train_v1_test_v2_random/\"\n",
    "\n",
    "description = '''\n",
    "Training and calibrating probability estimations on the WISDM v1.1 dataset. \n",
    "Probability estimation was done with stream sampling where those samples whose most probable class label\n",
    "was did not exceed some threshold (where the threshold is some amount greater than the uniform probability for the class) were\n",
    "actively labeled.  Testing on WISDM 2.0 with one participant held out'''\n",
    "\n",
    "experiment_output_path = \"/home/sac086/wisdm_model_personalization/results/\" + experiment_name"
   ]
  },
  {
   "cell_type": "code",
   "execution_count": null,
   "metadata": {
    "collapsed": true
   },
   "outputs": [],
   "source": [
    "if not os.path.exists(experiment_output_path):\n",
    "    os.makedirs(experiment_output_path)\n",
    "with open(experiment_output_path + \"README.md\", \"w\") as fOut:\n",
    "    fOut.write(description)"
   ]
  },
  {
   "cell_type": "code",
   "execution_count": null,
   "metadata": {
    "collapsed": true
   },
   "outputs": [],
   "source": [
    "command = \"\"\"wisdm.pipeline2('%s', user_ids)\"\"\" % experiment_output_path"
   ]
  },
  {
   "cell_type": "code",
   "execution_count": null,
   "metadata": {
    "collapsed": true
   },
   "outputs": [],
   "source": [
    "wisdm.set_data(version=\"2\", make_compatible=True)"
   ]
  },
  {
   "cell_type": "code",
   "execution_count": null,
   "metadata": {},
   "outputs": [],
   "source": [
    "# divide the user ids up among the different cores\n",
    "scatter_result = dview.scatter(\"user_ids\", wisdm.user_ids)\n",
    "\n",
    "start = time.time()\n",
    "dview.block = True\n",
    "results = dview.execute(command)\n",
    "finish = time.time()\n",
    "print(\"Finished all models in %s minutes\" % ((finish - start) / 60.))"
   ]
  },
  {
   "cell_type": "markdown",
   "metadata": {},
   "source": [
    "### Visualize Results for Experiment #3"
   ]
  },
  {
   "cell_type": "code",
   "execution_count": null,
   "metadata": {},
   "outputs": [],
   "source": [
    "from plotly.offline import download_plotlyjs, init_notebook_mode, plot, iplot\n",
    "init_notebook_mode(connected=True)\n",
    "from plotly.graph_objs import *"
   ]
  },
  {
   "cell_type": "code",
   "execution_count": null,
   "metadata": {
    "collapsed": true
   },
   "outputs": [],
   "source": [
    "from imp import reload"
   ]
  },
  {
   "cell_type": "code",
   "execution_count": null,
   "metadata": {
    "collapsed": true
   },
   "outputs": [],
   "source": [
    "from wisdm import viz"
   ]
  },
  {
   "cell_type": "code",
   "execution_count": null,
   "metadata": {
    "scrolled": false
   },
   "outputs": [],
   "source": [
    "reload(viz)"
   ]
  },
  {
   "cell_type": "code",
   "execution_count": null,
   "metadata": {
    "scrolled": false
   },
   "outputs": [],
   "source": [
    "results_df = viz.get_results_dataframe(experiment_output_path)"
   ]
  },
  {
   "cell_type": "code",
   "execution_count": null,
   "metadata": {},
   "outputs": [],
   "source": [
    "fig = viz.accuracy_means_by_training_size()\n",
    "iplot(fig)"
   ]
  },
  {
   "cell_type": "code",
   "execution_count": null,
   "metadata": {
    "scrolled": false
   },
   "outputs": [],
   "source": [
    "fig = viz.plotUserBests()\n",
    "iplot(fig)"
   ]
  },
  {
   "cell_type": "markdown",
   "metadata": {},
   "source": [
    "# Trained and tested on lab collected data"
   ]
  },
  {
   "cell_type": "code",
   "execution_count": null,
   "metadata": {},
   "outputs": [],
   "source": [
    "experiment_output_path = '/home/sac086/wisdm_model_personalization/results/"
   ]
  },
  {
   "cell_type": "code",
   "execution_count": null,
   "metadata": {
    "collapsed": true
   },
   "outputs": [],
   "source": [
    "experim\n",
    "results_df = viz.get_results_dataframe(experiment_output_path)"
   ]
  }
 ],
 "metadata": {
  "kernelspec": {
   "display_name": "Python 3",
   "language": "python",
   "name": "python3"
  },
  "language_info": {
   "codemirror_mode": {
    "name": "ipython",
    "version": 3
   },
   "file_extension": ".py",
   "mimetype": "text/x-python",
   "name": "python",
   "nbconvert_exporter": "python",
   "pygments_lexer": "ipython3",
   "version": "3.4.5"
  }
 },
 "nbformat": 4,
 "nbformat_minor": 2
}
