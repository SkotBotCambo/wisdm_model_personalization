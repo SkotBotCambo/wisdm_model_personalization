{
 "cells": [
  {
   "cell_type": "markdown",
   "metadata": {},
   "source": [
    "# Initializing the environment and clusters"
   ]
  },
  {
   "cell_type": "code",
   "execution_count": null,
   "metadata": {
    "collapsed": true
   },
   "outputs": [],
   "source": [
    "import ipyparallel as ipp\n",
    "c = ipp.Client()\n",
    "dview = c[:]"
   ]
  },
  {
   "cell_type": "code",
   "execution_count": null,
   "metadata": {},
   "outputs": [],
   "source": [
    "%%px --local\n",
    "import sys\n",
    "sys.path.append(\"/home/sac086/wisdm_model_personalization/\")\n",
    "import warnings\n",
    "import os\n",
    "from wisdm import wisdm\n",
    "import numpy as np\n",
    "import pandas as pd\n",
    "\n",
    "from sklearn.metrics import accuracy_score\n",
    "from sklearn.preprocessing import StandardScaler\n",
    "from sklearn.model_selection import KFold, StratifiedKFold, StratifiedShuffleSplit, ShuffleSplit\n",
    "from sklearn.cluster import KMeans\n",
    "from scipy.stats import mode\n",
    "from collections import Counter\n",
    "import time"
   ]
  },
  {
   "cell_type": "markdown",
   "metadata": {},
   "source": [
    "# Experiment #1\n",
    "In this experiment we compare differing amounts of personal data selected at random to combine with the impersonal \n",
    "training set as well as a cluster of the impersonal training set"
   ]
  },
  {
   "cell_type": "code",
   "execution_count": null,
   "metadata": {
    "collapsed": true
   },
   "outputs": [],
   "source": [
    "%%px --local\n",
    "experiment_name = \"experiment_08-31_train_v1_test_v2_random/\"\n",
    "\n",
    "description = '''\n",
    "Training and calibrating probability estimations on the WISDM v1.1 dataset. \n",
    "Probability estimation was done with stream sampling where those samples whose most probable class label\n",
    "was did not exceed some threshold (where the threshold is some amount greater than the uniform probability for the class) were\n",
    "actively labeled.  Testing on WISDM 2.0 with one participant held out'''\n",
    "\n",
    "experiment_output_path = \"/home/sac086/wisdm_model_personalization/results/\" + experiment_name"
   ]
  },
  {
   "cell_type": "code",
   "execution_count": null,
   "metadata": {
    "collapsed": true
   },
   "outputs": [],
   "source": [
    "if not os.path.exists(experiment_output_path):\n",
    "    os.makedirs(experiment_output_path)\n",
    "with open(experiment_output_path + \"README.md\", \"w\") as fOut:\n",
    "    fOut.write(description)"
   ]
  },
  {
   "cell_type": "code",
   "execution_count": null,
   "metadata": {},
   "outputs": [],
   "source": [
    "command = \"\"\"wisdm.pipeline1('%s', user_ids)\"\"\" % experiment_output_path"
   ]
  },
  {
   "cell_type": "code",
   "execution_count": null,
   "metadata": {
    "collapsed": true
   },
   "outputs": [],
   "source": [
    "wisdm.set_data(version=\"2\", make_compatible=True)"
   ]
  },
  {
   "cell_type": "code",
   "execution_count": null,
   "metadata": {},
   "outputs": [],
   "source": [
    "results = dview.execute('print(wisdm.user_ids)')\n"
   ]
  },
  {
   "cell_type": "code",
   "execution_count": null,
   "metadata": {},
   "outputs": [],
   "source": [
    "results.display_outputs()"
   ]
  },
  {
   "cell_type": "code",
   "execution_count": null,
   "metadata": {},
   "outputs": [],
   "source": [
    "# divide the user ids up among the different cores\n",
    "scatter_result = dview.scatter(\"user_ids\", wisdm.user_ids)\n",
    "\n",
    "start = time.time()\n",
    "dview.block = True\n",
    "results = dview.execute(command)\n",
    "finish = time.time()\n",
    "print(\"Finished all models in %s minutes\" % ((finish - start) / 60.))"
   ]
  },
  {
   "cell_type": "code",
   "execution_count": null,
   "metadata": {
    "collapsed": true
   },
   "outputs": [],
   "source": []
  }
 ],
 "metadata": {
  "kernelspec": {
   "display_name": "Python 3",
   "language": "python",
   "name": "python3"
  },
  "language_info": {
   "codemirror_mode": {
    "name": "ipython",
    "version": 3
   },
   "file_extension": ".py",
   "mimetype": "text/x-python",
   "name": "python",
   "nbconvert_exporter": "python",
   "pygments_lexer": "ipython3",
   "version": "3.4.5"
  }
 },
 "nbformat": 4,
 "nbformat_minor": 2
}
