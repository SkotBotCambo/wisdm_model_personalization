{
 "cells": [
  {
   "cell_type": "code",
   "execution_count": 3,
   "metadata": {},
   "outputs": [
    {
     "data": {
      "text/html": [
       "<script>requirejs.config({paths: { 'plotly': ['https://cdn.plot.ly/plotly-latest.min']},});if(!window.Plotly) {{require(['plotly'],function(plotly) {window.Plotly=plotly;});}}</script>"
      ],
      "text/vnd.plotly.v1+html": [
       "<script>requirejs.config({paths: { 'plotly': ['https://cdn.plot.ly/plotly-latest.min']},});if(!window.Plotly) {{require(['plotly'],function(plotly) {window.Plotly=plotly;});}}</script>"
      ]
     },
     "metadata": {},
     "output_type": "display_data"
    }
   ],
   "source": [
    "from wisdm import wisdm\n",
    "import random\n",
    "import numpy as np\n",
    "import pandas as pd\n",
    "from collections import Counter\n",
    "import time\n",
    "from scipy import stats\n",
    "import os\n",
    "import json\n",
    "\n",
    "from plotly.offline import download_plotlyjs, init_notebook_mode, plot, iplot\n",
    "init_notebook_mode(connected=True)\n",
    "import plotly.graph_objs as go"
   ]
  },
  {
   "cell_type": "code",
   "execution_count": 11,
   "metadata": {},
   "outputs": [],
   "source": [
    "results_path = \"./results/experiments2_10-6-17/experiment2.json_fix\"\n",
    "result_rows = []\n",
    "\n",
    "with open(results_path, \"r\") as f_in:\n",
    "    for line in f_in.readlines():\n",
    "        result_rows.append(json.loads(line))"
   ]
  },
  {
   "cell_type": "code",
   "execution_count": 12,
   "metadata": {},
   "outputs": [
    {
     "data": {
      "text/html": [
       "<div>\n",
       "<style>\n",
       "    .dataframe thead tr:only-child th {\n",
       "        text-align: right;\n",
       "    }\n",
       "\n",
       "    .dataframe thead th {\n",
       "        text-align: left;\n",
       "    }\n",
       "\n",
       "    .dataframe tbody tr th {\n",
       "        vertical-align: top;\n",
       "    }\n",
       "</style>\n",
       "<table border=\"1\" class=\"dataframe\">\n",
       "  <thead>\n",
       "    <tr style=\"text-align: right;\">\n",
       "      <th></th>\n",
       "      <th>hybrid predictions</th>\n",
       "      <th>hybrid probabilities</th>\n",
       "      <th>impersonal predictions</th>\n",
       "      <th>impersonal probabilities</th>\n",
       "      <th>personal predictions</th>\n",
       "      <th>personal probabilities</th>\n",
       "      <th>training size</th>\n",
       "      <th>true</th>\n",
       "      <th>user_id</th>\n",
       "    </tr>\n",
       "  </thead>\n",
       "  <tbody>\n",
       "    <tr>\n",
       "      <th>0</th>\n",
       "      <td>[Standing, Standing, Stairs, Walking, Standing...</td>\n",
       "      <td>[[0.0442, 0.3137, 0.1615, 0.4148, 0.0658], [0....</td>\n",
       "      <td>[Standing, Standing, Standing, Walking, Standi...</td>\n",
       "      <td>[[0.0399, 0.355, 0.1642, 0.3774, 0.0635], [0.0...</td>\n",
       "      <td>[Standing, Standing, Stairs, Walking, Standing...</td>\n",
       "      <td>[[0.0858, 0.1623, 0.6517, 0.1002], [0.0799, 0....</td>\n",
       "      <td>5</td>\n",
       "      <td>[Standing, Standing, Standing, Standing, Stand...</td>\n",
       "      <td>194</td>\n",
       "    </tr>\n",
       "    <tr>\n",
       "      <th>1</th>\n",
       "      <td>[Walking, Jogging, Standing, Jogging, Stairs, ...</td>\n",
       "      <td>[[0.0328, 0.022, 0.3814, 0.0925, 0.4713], [0.6...</td>\n",
       "      <td>[Walking, Jogging, Standing, Jogging, Stairs, ...</td>\n",
       "      <td>[[0.0177, 0.0562, 0.2657, 0.2156, 0.4448], [0....</td>\n",
       "      <td>[Stairs, Jogging, Standing, Jogging, Stairs, S...</td>\n",
       "      <td>[[0.1033, 0.432, 0.1658, 0.2989], [0.5358, 0.1...</td>\n",
       "      <td>5</td>\n",
       "      <td>[Standing, Standing, Standing, Standing, Stand...</td>\n",
       "      <td>194</td>\n",
       "    </tr>\n",
       "    <tr>\n",
       "      <th>2</th>\n",
       "      <td>[Walking, Standing, Stairs, Standing, Standing...</td>\n",
       "      <td>[[0.0375, 0.0525, 0.2684, 0.1655, 0.4761], [0....</td>\n",
       "      <td>[Walking, Standing, Standing, Standing, Standi...</td>\n",
       "      <td>[[0.0129, 0.0704, 0.2741, 0.2493, 0.3933], [0....</td>\n",
       "      <td>[Walking, Standing, Stairs, Standing, Standing...</td>\n",
       "      <td>[[0.1374, 0.2732, 0.2316, 0.3578], [0.0112, 0....</td>\n",
       "      <td>5</td>\n",
       "      <td>[Standing, Standing, Standing, Standing, Stand...</td>\n",
       "      <td>194</td>\n",
       "    </tr>\n",
       "    <tr>\n",
       "      <th>3</th>\n",
       "      <td>[Standing, Standing, Standing, Standing, Stand...</td>\n",
       "      <td>[[0.0383, 0.1629, 0.2836, 0.3352, 0.18], [0.03...</td>\n",
       "      <td>[Standing, Standing, Standing, Standing, Stand...</td>\n",
       "      <td>[[0.0337, 0.1932, 0.241, 0.3596, 0.1725], [0.0...</td>\n",
       "      <td>[Stairs, Standing, Standing, Standing, Standin...</td>\n",
       "      <td>[[0.1059, 0.343, 0.3383, 0.2128], [0.0805, 0.1...</td>\n",
       "      <td>5</td>\n",
       "      <td>[Standing, Standing, Standing, Standing, Stand...</td>\n",
       "      <td>194</td>\n",
       "    </tr>\n",
       "    <tr>\n",
       "      <th>4</th>\n",
       "      <td>[Standing, Walking, Jogging, Standing, Walking...</td>\n",
       "      <td>[[0.0412, 0.2626, 0.1375, 0.4972, 0.0615], [0....</td>\n",
       "      <td>[Sitting, Standing, Standing, Standing, Standi...</td>\n",
       "      <td>[[0.0424, 0.3706, 0.1873, 0.357, 0.0427], [0.0...</td>\n",
       "      <td>[Standing, Walking, Walking, Standing, Walking...</td>\n",
       "      <td>[[0.0658, 0.0595, 0.6179, 0.2568], [0.2008, 0....</td>\n",
       "      <td>5</td>\n",
       "      <td>[Standing, Standing, Standing, Standing, Stand...</td>\n",
       "      <td>1104</td>\n",
       "    </tr>\n",
       "  </tbody>\n",
       "</table>\n",
       "</div>"
      ],
      "text/plain": [
       "                                  hybrid predictions  \\\n",
       "0  [Standing, Standing, Stairs, Walking, Standing...   \n",
       "1  [Walking, Jogging, Standing, Jogging, Stairs, ...   \n",
       "2  [Walking, Standing, Stairs, Standing, Standing...   \n",
       "3  [Standing, Standing, Standing, Standing, Stand...   \n",
       "4  [Standing, Walking, Jogging, Standing, Walking...   \n",
       "\n",
       "                                hybrid probabilities  \\\n",
       "0  [[0.0442, 0.3137, 0.1615, 0.4148, 0.0658], [0....   \n",
       "1  [[0.0328, 0.022, 0.3814, 0.0925, 0.4713], [0.6...   \n",
       "2  [[0.0375, 0.0525, 0.2684, 0.1655, 0.4761], [0....   \n",
       "3  [[0.0383, 0.1629, 0.2836, 0.3352, 0.18], [0.03...   \n",
       "4  [[0.0412, 0.2626, 0.1375, 0.4972, 0.0615], [0....   \n",
       "\n",
       "                              impersonal predictions  \\\n",
       "0  [Standing, Standing, Standing, Walking, Standi...   \n",
       "1  [Walking, Jogging, Standing, Jogging, Stairs, ...   \n",
       "2  [Walking, Standing, Standing, Standing, Standi...   \n",
       "3  [Standing, Standing, Standing, Standing, Stand...   \n",
       "4  [Sitting, Standing, Standing, Standing, Standi...   \n",
       "\n",
       "                            impersonal probabilities  \\\n",
       "0  [[0.0399, 0.355, 0.1642, 0.3774, 0.0635], [0.0...   \n",
       "1  [[0.0177, 0.0562, 0.2657, 0.2156, 0.4448], [0....   \n",
       "2  [[0.0129, 0.0704, 0.2741, 0.2493, 0.3933], [0....   \n",
       "3  [[0.0337, 0.1932, 0.241, 0.3596, 0.1725], [0.0...   \n",
       "4  [[0.0424, 0.3706, 0.1873, 0.357, 0.0427], [0.0...   \n",
       "\n",
       "                                personal predictions  \\\n",
       "0  [Standing, Standing, Stairs, Walking, Standing...   \n",
       "1  [Stairs, Jogging, Standing, Jogging, Stairs, S...   \n",
       "2  [Walking, Standing, Stairs, Standing, Standing...   \n",
       "3  [Stairs, Standing, Standing, Standing, Standin...   \n",
       "4  [Standing, Walking, Walking, Standing, Walking...   \n",
       "\n",
       "                              personal probabilities  training size  \\\n",
       "0  [[0.0858, 0.1623, 0.6517, 0.1002], [0.0799, 0....              5   \n",
       "1  [[0.1033, 0.432, 0.1658, 0.2989], [0.5358, 0.1...              5   \n",
       "2  [[0.1374, 0.2732, 0.2316, 0.3578], [0.0112, 0....              5   \n",
       "3  [[0.1059, 0.343, 0.3383, 0.2128], [0.0805, 0.1...              5   \n",
       "4  [[0.0658, 0.0595, 0.6179, 0.2568], [0.2008, 0....              5   \n",
       "\n",
       "                                                true user_id  \n",
       "0  [Standing, Standing, Standing, Standing, Stand...     194  \n",
       "1  [Standing, Standing, Standing, Standing, Stand...     194  \n",
       "2  [Standing, Standing, Standing, Standing, Stand...     194  \n",
       "3  [Standing, Standing, Standing, Standing, Stand...     194  \n",
       "4  [Standing, Standing, Standing, Standing, Stand...    1104  "
      ]
     },
     "execution_count": 12,
     "metadata": {},
     "output_type": "execute_result"
    }
   ],
   "source": [
    "results_df = pd.DataFrame(result_rows)\n",
    "results_df.head()"
   ]
  },
  {
   "cell_type": "markdown",
   "metadata": {},
   "source": [
    "# code for fixing"
   ]
  },
  {
   "cell_type": "code",
   "execution_count": 8,
   "metadata": {
    "collapsed": true
   },
   "outputs": [],
   "source": [
    "results_path = \"./results/experiments2_10-6-17/experiment2.json\"\n",
    "result_rows = []\n",
    "\n",
    "with open(results_path, \"r\") as f_in:\n",
    "    lines = f_in.readlines()"
   ]
  },
  {
   "cell_type": "code",
   "execution_count": 9,
   "metadata": {},
   "outputs": [],
   "source": [
    "left_bracket_indeces = [i for i, ltr in enumerate(lines[0]) if ltr == \"{\"]\n",
    "right_bracket_indeces = [i for i, ltr in enumerate(lines[0]) if ltr == \"}\"]\n",
    "brackets = zip(left_bracket_indeces, right_bracket_indeces)"
   ]
  },
  {
   "cell_type": "code",
   "execution_count": 10,
   "metadata": {},
   "outputs": [],
   "source": [
    "result_rows = []\n",
    "for l,r in brackets:\n",
    "    result_rows.append(json.loads(lines[0][l:r+1]))\n",
    "    \n",
    "with open(\"./results/experiments2_10-6-17/experiment2.json_fix\", \"w\") as f_out:\n",
    "    for row in result_rows:\n",
    "        f_out.write(json.dumps(row))\n",
    "        f_out.write(\"\\n\")"
   ]
  },
  {
   "cell_type": "code",
   "execution_count": 15,
   "metadata": {},
   "outputs": [
    {
     "data": {
      "text/plain": [
       "21"
      ]
     },
     "execution_count": 15,
     "metadata": {},
     "output_type": "execute_result"
    }
   ],
   "source": [
    "len(results_df['user_id'].unique())"
   ]
  },
  {
   "cell_type": "code",
   "execution_count": null,
   "metadata": {
    "collapsed": true
   },
   "outputs": [],
   "source": []
  }
 ],
 "metadata": {
  "kernelspec": {
   "display_name": "Python 3",
   "language": "python",
   "name": "python3"
  },
  "language_info": {
   "codemirror_mode": {
    "name": "ipython",
    "version": 3
   },
   "file_extension": ".py",
   "mimetype": "text/x-python",
   "name": "python",
   "nbconvert_exporter": "python",
   "pygments_lexer": "ipython3",
   "version": "3.4.5"
  }
 },
 "nbformat": 4,
 "nbformat_minor": 2
}
