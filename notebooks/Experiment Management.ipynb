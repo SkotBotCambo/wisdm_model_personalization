{
 "cells": [
  {
   "cell_type": "markdown",
   "metadata": {},
   "source": [
    "# To Do"
   ]
  },
  {
   "cell_type": "markdown",
   "metadata": {},
   "source": [
    "* parallelize experimental pipeline to make experiment iterations go faster on jakku\n",
    "* experiment with different clustering approaches\n",
    "    * different values for K in KMeans\n",
    "    * DBScan or some other clustering approach\n",
    "    * stratify data across activity classes to match labeled data\n",
    "* experiment with uncertainty sampling instead of random sampling of personal data\n",
    "* investigate clusters\n",
    "    * How big are the clusters? Is it just a matter of size of the cluster?\n",
    "    * are the clusters fairly homogenous/heterogenous with respect to\n",
    "        * activity\n",
    "        * user data (is a user's data mostly within one cluster, or many?)\n",
    "* investigate why this method works great for some people, but not others\n",
    "* What does this mean for designing human-in-the-loop systems?"
   ]
  },
  {
   "cell_type": "code",
   "execution_count": null,
   "metadata": {
    "collapsed": true
   },
   "outputs": [],
   "source": []
  }
 ],
 "metadata": {
  "kernelspec": {
   "display_name": "Python 3",
   "language": "python",
   "name": "python3"
  },
  "language_info": {
   "codemirror_mode": {
    "name": "ipython",
    "version": 3
   },
   "file_extension": ".py",
   "mimetype": "text/x-python",
   "name": "python",
   "nbconvert_exporter": "python",
   "pygments_lexer": "ipython3",
   "version": "3.4.5"
  }
 },
 "nbformat": 4,
 "nbformat_minor": 2
}
